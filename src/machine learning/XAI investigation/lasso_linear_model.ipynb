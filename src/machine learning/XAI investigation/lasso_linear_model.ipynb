{
 "cells": [
  {
   "cell_type": "markdown",
   "metadata": {},
   "source": [
    "# Evaluating our linear model - natural interpretibility\n",
    "---\n",
    "Regularised linear models performed surprisingly well on this complicated non linear task. My theory is that lateral inhibition explains this oddity. Lateral inhibition is where a neuron reduces the activity of its neighbors. The inputs to olfaction system actually sum linearly at the perceptual stage and because we are looking at the whole end to end relationship the mappings seem to be linear for our models too. \n"
   ]
  },
  {
   "cell_type": "code",
   "execution_count": 1,
   "metadata": {},
   "outputs": [],
   "source": [
    "# Math/Data Libraries\n",
    "import scipy\n",
    "import numpy as np\n",
    "import pandas as pd\n",
    "\n",
    "# Visalisation\n",
    "import matplotlib\n",
    "import matplotlib.pyplot as plt\n",
    "%matplotlib inline\n",
    "import seaborn as sb\n",
    "import shap\n",
    "\n",
    "# I/O\n",
    "import json\n",
    "import xlrd\n",
    "from sklearn.externals import joblib\n",
    "\n",
    "# Jupyter/IPython Utility\n",
    "from IPython.core.interactiveshell import InteractiveShell\n",
    "InteractiveShell.ast_node_interactivity = \"all\""
   ]
  },
  {
   "cell_type": "markdown",
   "metadata": {},
   "source": [
    "## Paths"
   ]
  },
  {
   "cell_type": "code",
   "execution_count": 2,
   "metadata": {},
   "outputs": [],
   "source": [
    "path_to_transformed_data = \"../../../data/transformed/\"\n",
    "path_to_data = \"../../../data/\"\n",
    "path_to_models = '../models/'"
   ]
  },
  {
   "cell_type": "markdown",
   "metadata": {},
   "source": [
    "## Load data"
   ]
  },
  {
   "cell_type": "code",
   "execution_count": 3,
   "metadata": {},
   "outputs": [],
   "source": [
    "data = pd.read_pickle(path_to_transformed_data + 'mean_training_set.zip')\n",
    "X = data.iloc[:, 25:]\n",
    "X['Odor dilution'] = data['Odor dilution']"
   ]
  },
  {
   "cell_type": "markdown",
   "metadata": {},
   "source": [
    "## Load Model - Pleasantness"
   ]
  },
  {
   "cell_type": "code",
   "execution_count": 4,
   "metadata": {},
   "outputs": [],
   "source": [
    "# Pleasantness - R = 0.59\n",
    "lasso_ple_all = joblib.load(path_to_models + 'lasso_PLEASANTNESS_all.pkl')"
   ]
  },
  {
   "cell_type": "code",
   "execution_count": 5,
   "metadata": {},
   "outputs": [],
   "source": [
    "model = lasso_ple_all.steps[3][1]"
   ]
  },
  {
   "cell_type": "code",
   "execution_count": 6,
   "metadata": {},
   "outputs": [],
   "source": [
    "non_zero_coef = {}\n",
    "above_point_one_coef = {}\n",
    "count = -1\n",
    "for coef in model.coef_:\n",
    "    count+=1\n",
    "    if coef > 0 or coef < 0:\n",
    "        non_zero_coef[X.columns[count]] = coef\n",
    "    if coef > 0.1 or coef < -0.1:\n",
    "        above_point_one_coef[X.columns[count]] = coef\n",
    "        "
   ]
  },
  {
   "cell_type": "code",
   "execution_count": 7,
   "metadata": {},
   "outputs": [
    {
     "data": {
      "text/plain": [
       "33"
      ]
     },
     "execution_count": 7,
     "metadata": {},
     "output_type": "execute_result"
    },
    {
     "data": {
      "text/plain": [
       "{'MATS4v': -0.1918729530484575,\n",
       " 'MATS7s': -0.6713772699444681,\n",
       " 'GGI10': -0.0675063499346344,\n",
       " 'JGI5': 0.05447794384119818,\n",
       " 'P_VSA_LogP_5': 0.3595283571354044,\n",
       " 'P_VSA_MR_8': -1.3279640016400616,\n",
       " 'Eta_sh_x': 0.28898485581464234,\n",
       " 'SM03_AEA(ri)': -0.37513381446432026,\n",
       " 'SM04_AEA(ri)': -0.12319283577333189,\n",
       " 'Eig08_EA(ed)': -0.008031917823727301,\n",
       " 'Eig09_EA(ed)': -0.00010692478630331873,\n",
       " 'Eig11_AEA(bo)': -0.03959350033889067,\n",
       " 'Mor10u': -0.17270823584603126,\n",
       " 'Mor13m': -0.749296082622855,\n",
       " 'Mor30m': -0.14235915080758507,\n",
       " 'Mor27i': 0.5405325341210911,\n",
       " 'HATS8i': 0.17829832982001598,\n",
       " 'R8e+': 0.8765918008264624,\n",
       " 'nArCHO': 1.1993551520809764,\n",
       " 'C-037': 1.543895327083674e-15,\n",
       " 'H-052': 0.07944758276410656,\n",
       " 'SaaO': -0.01930385708247827,\n",
       " 'NdssC': 0.27376067650252894,\n",
       " 'NssO': 1.41082036318964,\n",
       " 'NssS': -0.844195471854501,\n",
       " 'CATS2D_06_DA': 0.2132121198572818,\n",
       " 'CATS2D_03_NL': -1.191106152974543,\n",
       " 'CATS2D_07_NL': -0.18552898028505144,\n",
       " 'CATS2D_03_LL': 0.04607948851259599,\n",
       " 'B04[C-S]': -0.7063602302558412,\n",
       " 'B10[C-O]': -0.08458514632785316,\n",
       " 'F04[C-S]': -0.16130945234905392,\n",
       " 'Odor dilution': -0.8738142241446305}"
      ]
     },
     "execution_count": 7,
     "metadata": {},
     "output_type": "execute_result"
    },
    {
     "data": {
      "text/plain": [
       "23"
      ]
     },
     "execution_count": 7,
     "metadata": {},
     "output_type": "execute_result"
    },
    {
     "data": {
      "text/plain": [
       "{'MATS4v': -0.1918729530484575,\n",
       " 'MATS7s': -0.6713772699444681,\n",
       " 'P_VSA_LogP_5': 0.3595283571354044,\n",
       " 'P_VSA_MR_8': -1.3279640016400616,\n",
       " 'Eta_sh_x': 0.28898485581464234,\n",
       " 'SM03_AEA(ri)': -0.37513381446432026,\n",
       " 'SM04_AEA(ri)': -0.12319283577333189,\n",
       " 'Mor10u': -0.17270823584603126,\n",
       " 'Mor13m': -0.749296082622855,\n",
       " 'Mor30m': -0.14235915080758507,\n",
       " 'Mor27i': 0.5405325341210911,\n",
       " 'HATS8i': 0.17829832982001598,\n",
       " 'R8e+': 0.8765918008264624,\n",
       " 'nArCHO': 1.1993551520809764,\n",
       " 'NdssC': 0.27376067650252894,\n",
       " 'NssO': 1.41082036318964,\n",
       " 'NssS': -0.844195471854501,\n",
       " 'CATS2D_06_DA': 0.2132121198572818,\n",
       " 'CATS2D_03_NL': -1.191106152974543,\n",
       " 'CATS2D_07_NL': -0.18552898028505144,\n",
       " 'B04[C-S]': -0.7063602302558412,\n",
       " 'F04[C-S]': -0.16130945234905392,\n",
       " 'Odor dilution': -0.8738142241446305}"
      ]
     },
     "execution_count": 7,
     "metadata": {},
     "output_type": "execute_result"
    }
   ],
   "source": [
    "# We have 33 non-zero coefficients\n",
    "len(non_zero_coef)\n",
    "non_zero_coef\n",
    "## 23 above 0.1 in absolute value\n",
    "len(above_point_one_coef)\n",
    "above_point_one_coef"
   ]
  },
  {
   "cell_type": "code",
   "execution_count": 8,
   "metadata": {},
   "outputs": [
    {
     "data": {
      "text/plain": [
       "Text(0.5,1,'PLEASANTNESS - All non-zero coefs')"
      ]
     },
     "execution_count": 8,
     "metadata": {},
     "output_type": "execute_result"
    },
    {
     "data": {
      "image/png": "[encoded data removed]",
      "text/plain": [
       "<Figure size 432x288 with 1 Axes>"
      ]
     },
     "metadata": {},
     "output_type": "display_data"
    }
   ],
   "source": [
    "sb.barplot(y=list(non_zero_coef.keys()), x=list(non_zero_coef.values())).set_title('PLEASANTNESS - All non-zero coefs')\n"
   ]
  },
  {
   "cell_type": "code",
   "execution_count": 9,
   "metadata": {},
   "outputs": [
    {
     "data": {
      "text/plain": [
       "Text(0.5,1,'PLEASANTNESS - All non-zero coefs w/ magnitude > 0.1')"
      ]
     },
     "execution_count": 9,
     "metadata": {},
     "output_type": "execute_result"
    },
    {
     "data": {
      "image/png": "[encoded data removed]",
      "text/plain": [
       "<Figure size 432x288 with 1 Axes>"
      ]
     },
     "metadata": {},
     "output_type": "display_data"
    }
   ],
   "source": [
    "sb.barplot(y=list(above_point_one_coef.keys()), x=list(above_point_one_coef.values())).set_title('PLEASANTNESS - All non-zero coefs w/ magnitude > 0.1')\n"
   ]
  },
  {
   "cell_type": "code",
   "execution_count": 10,
   "metadata": {},
   "outputs": [
    {
     "data": {
      "text/plain": [
       "45.61877817872189"
      ]
     },
     "execution_count": 10,
     "metadata": {},
     "output_type": "execute_result"
    }
   ],
   "source": [
    "# Where our predictions begin for pleasentness\n",
    "model.intercept_"
   ]
  },
  {
   "cell_type": "markdown",
   "metadata": {},
   "source": [
    "## Intensity"
   ]
  },
  {
   "cell_type": "code",
   "execution_count": 11,
   "metadata": {},
   "outputs": [],
   "source": [
    "# Intensity - R = 0.71\n",
    "lasso_int_all = joblib.load(path_to_models + 'lasso_INTENSITY_all.pkl')"
   ]
  },
  {
   "cell_type": "code",
   "execution_count": 12,
   "metadata": {},
   "outputs": [],
   "source": [
    "model = lasso_int_all.steps[3][1]"
   ]
  },
  {
   "cell_type": "code",
   "execution_count": 13,
   "metadata": {},
   "outputs": [],
   "source": [
    "non_zero_coef = {}\n",
    "above_point_one_coef = {}\n",
    "count = -1\n",
    "for coef in model.coef_:\n",
    "    count+=1\n",
    "    if coef > 0 or coef < 0:\n",
    "        non_zero_coef[X.columns[count]] = coef\n",
    "    if coef > 0.1 or coef < -0.1:\n",
    "        above_point_one_coef[X.columns[count]] = coef\n",
    "        "
   ]
  },
  {
   "cell_type": "code",
   "execution_count": 14,
   "metadata": {},
   "outputs": [
    {
     "data": {
      "text/plain": [
       "62"
      ]
     },
     "execution_count": 14,
     "metadata": {},
     "output_type": "execute_result"
    },
    {
     "data": {
      "text/plain": [
       "{'PJI2': 0.19937422483037615,\n",
       " 'X4Av': 0.5760791397787216,\n",
       " 'X5Av': 1.6566199040442988,\n",
       " 'ChiA_X': -0.7669753672771993,\n",
       " 'MATS4s': -0.38939376553705535,\n",
       " 'P_VSA_s_3': 0.0516196919207649,\n",
       " 'SM10_AEA(ri)': 0.2952137583800549,\n",
       " 'Eig15_EA(ed)': 1.4035412064397038e-16,\n",
       " 'Eig03_AEA(dm)': 0.619545561847716,\n",
       " 'Eig08_AEA(dm)': -1.5286065908970212,\n",
       " 'Eig08_AEA(ri)': -0.5769832597570616,\n",
       " 'DISPp': 0.13329861783828306,\n",
       " 'RDF145u': -0.13806128624137948,\n",
       " 'Mor24m': -0.18582009964997773,\n",
       " 'Mor10v': 0.0368924658629248,\n",
       " 'Mor21p': -0.5195429805083135,\n",
       " 'Mor11s': -0.31073612660626015,\n",
       " 'Mor15s': -0.0019010404327716819,\n",
       " 'Mor17s': 0.9829464004557317,\n",
       " 'Mor30s': 0.5919987003283876,\n",
       " 'Mor32s': -0.25151715758462484,\n",
       " 'HATSv': 0.6353031089177368,\n",
       " 'HATSp': 1.218516764218137,\n",
       " 'R4v+': 0.420718236615255,\n",
       " 'R1p+': 0.7243140429160261,\n",
       " 'RTp+': 0.5135219114076507,\n",
       " 'nArCOOH': -0.014593271814054712,\n",
       " 'nRCOSR': 0.4086719169796798,\n",
       " 'nArCO': 0.03356116047637479,\n",
       " 'nRNH2': -0.4115532612608478,\n",
       " 'C-008': -0.18613572533410416,\n",
       " 'C-029': 0.20161307254799055,\n",
       " 'C-039': 0.00618584193925014,\n",
       " 'H-052': -0.4650851788829717,\n",
       " 'N-066': -0.017566186203223724,\n",
       " 'N-072': -0.08711096498789292,\n",
       " 'SssssC': 0.6390571675634831,\n",
       " 'SssO': -0.6427420954948325,\n",
       " 'NssssC': -0.014243806844149698,\n",
       " 'NssS': 0.09187284788891495,\n",
       " 'CATS2D_05_DA': -0.27889216463425237,\n",
       " 'CATS2D_07_DA': -0.2229160414412395,\n",
       " 'CATS2D_03_DN': -0.07824715574047982,\n",
       " 'CATS2D_06_DN': -0.0002742460317797591,\n",
       " 'CATS2D_03_AA': 0.0859647848907157,\n",
       " 'CATS2D_06_AN': -0.004498681838991857,\n",
       " 'CATS2D_05_NN': -1.600036975341262e-14,\n",
       " 'CATS2D_07_NL': 0.26673960531056545,\n",
       " 'CATS2D_08_NL': 0.696743224862519,\n",
       " 'CATS2D_09_NL': 1.571966151212469e-14,\n",
       " 'B05[C-C]': 0.1295179733158263,\n",
       " 'B05[N-S]': -0.5048145973920518,\n",
       " 'F02[O-S]': 0.39526211265921146,\n",
       " 'F03[O-S]': 0.4632091464367066,\n",
       " 'F04[C-S]': 0.28894671684405193,\n",
       " 'F05[N-S]': -0.04935515189276912,\n",
       " 'G(O..S)': 0.0805039287472228,\n",
       " 'DLS_01': 0.04915377653627319,\n",
       " 'LLS_01': 0.5519643520339137,\n",
       " 'CMC-80': -0.22562101626188957,\n",
       " 'Depressant-80': -0.07334725577382509,\n",
       " 'Odor dilution': 11.93447936350066}"
      ]
     },
     "execution_count": 14,
     "metadata": {},
     "output_type": "execute_result"
    },
    {
     "data": {
      "text/plain": [
       "41"
      ]
     },
     "execution_count": 14,
     "metadata": {},
     "output_type": "execute_result"
    },
    {
     "data": {
      "text/plain": [
       "{'PJI2': 0.19937422483037615,\n",
       " 'X4Av': 0.5760791397787216,\n",
       " 'X5Av': 1.6566199040442988,\n",
       " 'ChiA_X': -0.7669753672771993,\n",
       " 'MATS4s': -0.38939376553705535,\n",
       " 'SM10_AEA(ri)': 0.2952137583800549,\n",
       " 'Eig03_AEA(dm)': 0.619545561847716,\n",
       " 'Eig08_AEA(dm)': -1.5286065908970212,\n",
       " 'Eig08_AEA(ri)': -0.5769832597570616,\n",
       " 'DISPp': 0.13329861783828306,\n",
       " 'RDF145u': -0.13806128624137948,\n",
       " 'Mor24m': -0.18582009964997773,\n",
       " 'Mor21p': -0.5195429805083135,\n",
       " 'Mor11s': -0.31073612660626015,\n",
       " 'Mor17s': 0.9829464004557317,\n",
       " 'Mor30s': 0.5919987003283876,\n",
       " 'Mor32s': -0.25151715758462484,\n",
       " 'HATSv': 0.6353031089177368,\n",
       " 'HATSp': 1.218516764218137,\n",
       " 'R4v+': 0.420718236615255,\n",
       " 'R1p+': 0.7243140429160261,\n",
       " 'RTp+': 0.5135219114076507,\n",
       " 'nRCOSR': 0.4086719169796798,\n",
       " 'nRNH2': -0.4115532612608478,\n",
       " 'C-008': -0.18613572533410416,\n",
       " 'C-029': 0.20161307254799055,\n",
       " 'H-052': -0.4650851788829717,\n",
       " 'SssssC': 0.6390571675634831,\n",
       " 'SssO': -0.6427420954948325,\n",
       " 'CATS2D_05_DA': -0.27889216463425237,\n",
       " 'CATS2D_07_DA': -0.2229160414412395,\n",
       " 'CATS2D_07_NL': 0.26673960531056545,\n",
       " 'CATS2D_08_NL': 0.696743224862519,\n",
       " 'B05[C-C]': 0.1295179733158263,\n",
       " 'B05[N-S]': -0.5048145973920518,\n",
       " 'F02[O-S]': 0.39526211265921146,\n",
       " 'F03[O-S]': 0.4632091464367066,\n",
       " 'F04[C-S]': 0.28894671684405193,\n",
       " 'LLS_01': 0.5519643520339137,\n",
       " 'CMC-80': -0.22562101626188957,\n",
       " 'Odor dilution': 11.93447936350066}"
      ]
     },
     "execution_count": 14,
     "metadata": {},
     "output_type": "execute_result"
    }
   ],
   "source": [
    "# 62 non-zero coefficients\n",
    "len(non_zero_coef)\n",
    "non_zero_coef\n",
    "## 41 above 0.1 in absolute value\n",
    "len(above_point_one_coef)\n",
    "above_point_one_coef"
   ]
  },
  {
   "cell_type": "code",
   "execution_count": 15,
   "metadata": {},
   "outputs": [
    {
     "data": {
      "text/plain": [
       "Text(0.5,1,'INTENSITY - All non-zero coefs w/ magnitude > 0.1')"
      ]
     },
     "execution_count": 15,
     "metadata": {},
     "output_type": "execute_result"
    },
    {
     "data": {
      "image/png": "[encoded data removed]",
      "text/plain": [
       "<Figure size 432x288 with 1 Axes>"
      ]
     },
     "metadata": {},
     "output_type": "display_data"
    }
   ],
   "source": [
    "sb.barplot(y=list(above_point_one_coef.keys()), x=list(above_point_one_coef.values())).set_title('INTENSITY - All non-zero coefs w/ magnitude > 0.1')\n"
   ]
  },
  {
   "cell_type": "markdown",
   "metadata": {},
   "source": [
    "It is pretty obvious that our lasso uses odor dilution to ballpark the intensity of a sample. With the high concentration of any chemical given a 12 point increase in predicted intensity. As our odor diltion is a binary variable we can measure the exact effect of this coefficent on prediction. \n",
    "\n",
    "The low dilutions are scored 12 points lower than higher dilutions as all other variables constant between sample of the same chemical. This behaviour explains the high predictive accuray of the LASSO intensity model and was noted in the write ups of some teams in the DREAM challenge."
   ]
  },
  {
   "cell_type": "code",
   "execution_count": 16,
   "metadata": {},
   "outputs": [
    {
     "data": {
      "text/plain": [
       "48.064372629020326"
      ]
     },
     "execution_count": 16,
     "metadata": {},
     "output_type": "execute_result"
    }
   ],
   "source": [
    "# Where our predictions begin for intensity\n",
    "model.intercept_"
   ]
  },
  {
   "cell_type": "markdown",
   "metadata": {},
   "source": [
    "## Fruit"
   ]
  },
  {
   "cell_type": "code",
   "execution_count": 17,
   "metadata": {},
   "outputs": [],
   "source": [
    "# FRUIT - R = 0.34\n",
    "lasso_fruit_all = joblib.load(path_to_models + 'lasso_FRUIT_all.pkl')\n",
    "model = lasso_fruit_all.steps[3][1]"
   ]
  },
  {
   "cell_type": "code",
   "execution_count": 18,
   "metadata": {},
   "outputs": [],
   "source": [
    "non_zero_coef = {}\n",
    "above_point_one_coef = {}\n",
    "count = -1\n",
    "for coef in model.coef_:\n",
    "    count+=1\n",
    "    if coef > 0 or coef < 0:\n",
    "        non_zero_coef[X.columns[count]] = coef\n",
    "    if coef > 0.1 or coef < -0.1:\n",
    "        above_point_one_coef[X.columns[count]] = coef\n",
    "        "
   ]
  },
  {
   "cell_type": "code",
   "execution_count": 19,
   "metadata": {},
   "outputs": [
    {
     "data": {
      "text/plain": [
       "29"
      ]
     },
     "execution_count": 19,
     "metadata": {},
     "output_type": "execute_result"
    },
    {
     "data": {
      "text/plain": [
       "{'nR03': 0.23004099744926437,\n",
       " 'SRW03': 0.020881354479949116,\n",
       " 'SM3_X': 0.007339891518911011,\n",
       " 'SpMax_B(s)': 0.13873583554849486,\n",
       " 'MATS3s': 0.09247637593542499,\n",
       " 'MATS4s': -0.13862189442613196,\n",
       " 'GATS6v': 0.3824784737095839,\n",
       " 'JGI7': 0.06586516183615895,\n",
       " 'SpMin4_Bh(s)': 0.3071593231155332,\n",
       " 'Eig08_EA(ri)': -0.7960017730608977,\n",
       " 'Eig09_AEA(dm)': -0.0831414457231169,\n",
       " 'TDB09i': 0.4843534991965219,\n",
       " 'Mor27u': 0.4029834543323497,\n",
       " 'Mor08i': 0.314364343280805,\n",
       " 'Mor10i': -0.014960472146584452,\n",
       " 'HATS1v': -0.10382895340293583,\n",
       " 'nCconj': 0.15971241029145125,\n",
       " 'nOxiranes': 0.061979201971980626,\n",
       " 'O-057': -0.46101104264747494,\n",
       " 'CATS2D_07_DD': -0.017751161381445515,\n",
       " 'CATS2D_05_DA': -0.5059523828682564,\n",
       " 'CATS2D_09_DL': -0.09703539582551149,\n",
       " 'CATS2D_02_AA': 1.0520932660108988,\n",
       " 'B02[C-S]': -0.9467204979758461,\n",
       " 'B03[N-O]': -0.3453063527810224,\n",
       " 'B05[C-O]': 0.3581979399810543,\n",
       " 'DLS_06': 0.7008803967981168,\n",
       " 'LLS_02': 0.1253603991768309,\n",
       " 'Odor dilution': 0.7619440519916348}"
      ]
     },
     "execution_count": 19,
     "metadata": {},
     "output_type": "execute_result"
    },
    {
     "data": {
      "text/plain": [
       "20"
      ]
     },
     "execution_count": 19,
     "metadata": {},
     "output_type": "execute_result"
    },
    {
     "data": {
      "text/plain": [
       "{'nR03': 0.23004099744926437,\n",
       " 'SpMax_B(s)': 0.13873583554849486,\n",
       " 'MATS4s': -0.13862189442613196,\n",
       " 'GATS6v': 0.3824784737095839,\n",
       " 'SpMin4_Bh(s)': 0.3071593231155332,\n",
       " 'Eig08_EA(ri)': -0.7960017730608977,\n",
       " 'TDB09i': 0.4843534991965219,\n",
       " 'Mor27u': 0.4029834543323497,\n",
       " 'Mor08i': 0.314364343280805,\n",
       " 'HATS1v': -0.10382895340293583,\n",
       " 'nCconj': 0.15971241029145125,\n",
       " 'O-057': -0.46101104264747494,\n",
       " 'CATS2D_05_DA': -0.5059523828682564,\n",
       " 'CATS2D_02_AA': 1.0520932660108988,\n",
       " 'B02[C-S]': -0.9467204979758461,\n",
       " 'B03[N-O]': -0.3453063527810224,\n",
       " 'B05[C-O]': 0.3581979399810543,\n",
       " 'DLS_06': 0.7008803967981168,\n",
       " 'LLS_02': 0.1253603991768309,\n",
       " 'Odor dilution': 0.7619440519916348}"
      ]
     },
     "execution_count": 19,
     "metadata": {},
     "output_type": "execute_result"
    }
   ],
   "source": [
    "# 116 non-zero coefficients\n",
    "len(non_zero_coef)\n",
    "non_zero_coef\n",
    "## 20 above 0.1 in absolute value\n",
    "len(above_point_one_coef)\n",
    "above_point_one_coef"
   ]
  },
  {
   "cell_type": "code",
   "execution_count": 20,
   "metadata": {},
   "outputs": [
    {
     "data": {
      "text/plain": [
       "Text(0.5,1,'FRUIT - All non-zero coefs w/ magnitude > 0.1')"
      ]
     },
     "execution_count": 20,
     "metadata": {},
     "output_type": "execute_result"
    },
    {
     "data": {
      "image/png": "[encoded data removed]",
      "text/plain": [
       "<Figure size 432x288 with 1 Axes>"
      ]
     },
     "metadata": {},
     "output_type": "display_data"
    }
   ],
   "source": [
    "sb.barplot(y=list(above_point_one_coef.keys()), x=list(above_point_one_coef.values())).set_title('FRUIT - All non-zero coefs w/ magnitude > 0.1')\n"
   ]
  },
  {
   "cell_type": "markdown",
   "metadata": {},
   "source": [
    "Predictions for fruit obtained a 0.34 correlation with actual target values. "
   ]
  },
  {
   "cell_type": "code",
   "execution_count": 21,
   "metadata": {},
   "outputs": [
    {
     "data": {
      "text/plain": [
       "19.29685423847622"
      ]
     },
     "execution_count": 21,
     "metadata": {},
     "output_type": "execute_result"
    }
   ],
   "source": [
    "# Where our predictions begin for fruit\n",
    "model.intercept_"
   ]
  },
  {
   "cell_type": "code",
   "execution_count": null,
   "metadata": {},
   "outputs": [],
   "source": []
  }
 ],
 "metadata": {
  "kernelspec": {
   "display_name": "Python 3",
   "language": "python",
   "name": "python3"
  },
  "language_info": {
   "codemirror_mode": {
    "name": "ipython",
    "version": 3
   },
   "file_extension": ".py",
   "mimetype": "text/x-python",
   "name": "python",
   "nbconvert_exporter": "python",
   "pygments_lexer": "ipython3",
   "version": "3.6.5"
  }
 },
 "nbformat": 4,
 "nbformat_minor": 2
}
