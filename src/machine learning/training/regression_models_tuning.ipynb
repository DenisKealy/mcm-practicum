{
 "cells": [
  {
   "cell_type": "markdown",
   "metadata": {},
   "source": [
    "# Regression Models Tuning\n",
    "---\n",
    "From our previous modelling and from the literature it is clear that some targets will be easier to predict than others. We will reduce the number of algortihms and the number of features to reduce training times which may also improve performance.\n",
    "\n",
    "In this notebook we test a reduced feature set which was derived from previous modelling efforts on this task. These features were derived, by one by one, leaving each descriptive feature out of a random forest regression model and measuring the decrease in preformance - denoted as the ErrorDelta. \n",
    "\n",
    "Also we will run a randomised search over the reccomended hyperparameters to see how these hyperparameters affect our learning.\n",
    "\n",
    "At the end of the notebook we will examine our hyperparameter tuning and choose our final modeling techniques for evaluation."
   ]
  },
  {
   "cell_type": "code",
   "execution_count": 100,
   "metadata": {},
   "outputs": [],
   "source": [
    "# Math/Data Libraries\n",
    "import scipy\n",
    "import numpy as np\n",
    "import pandas as pd\n",
    "\n",
    "# Visalisation\n",
    "import matplotlib\n",
    "import matplotlib.pyplot as plt\n",
    "%matplotlib inline\n",
    "import seaborn as sb\n",
    "\n",
    "# I/O\n",
    "import json\n",
    "import xlrd\n",
    "\n",
    "# Jupyter/IPython Utility\n",
    "from IPython.core.interactiveshell import InteractiveShell\n",
    "InteractiveShell.ast_node_interactivity = \"all\""
   ]
  },
  {
   "cell_type": "markdown",
   "metadata": {},
   "source": [
    "## Paths"
   ]
  },
  {
   "cell_type": "code",
   "execution_count": 149,
   "metadata": {},
   "outputs": [],
   "source": [
    "path_to_transformed_data = \"../../../data/transformed/\"\n",
    "path_to_data = \"../../../data/\"\n",
    "path_to_models = '../models/'\n",
    "top20features_file = 'dream/winning_team_individual_paper/top20features.xlsx'\n"
   ]
  },
  {
   "cell_type": "code",
   "execution_count": 4,
   "metadata": {},
   "outputs": [],
   "source": [
    "# Read Data\n",
    "df = pd.read_pickle(path_to_transformed_data + 'mean_training_set.zip')"
   ]
  },
  {
   "cell_type": "markdown",
   "metadata": {},
   "source": [
    "## What we learned from Baseline Modelling"
   ]
  },
  {
   "cell_type": "markdown",
   "metadata": {},
   "source": [
    "- Some targets are far easier than others to predict. From our baseline modelling and from the literature I have chosen 9 targets from the semantic descriptors as well as intensity and pleasentness. \n",
    "- Linear Ridge and Linear (OLS) performed poorly on baseline. With 3700+ descriptive features this is expected.\n",
    "- ElasticNet & LASSO performing well due to L1 regularization.\n",
    "- Random forest methods perform modestly - are likely hindered by hyperparameters \n",
    "- AdaBoost performs well on Pleasantness & Intensity but not on the semantic decriptors.\n",
    "- Gradient Tree Boosting looks promising "
   ]
  },
  {
   "cell_type": "code",
   "execution_count": 5,
   "metadata": {},
   "outputs": [],
   "source": [
    "X = df.iloc[:, 25:]\n",
    "X['Odor dilution'] = df['Odor dilution']"
   ]
  },
  {
   "cell_type": "code",
   "execution_count": 10,
   "metadata": {},
   "outputs": [
    {
     "name": "stdout",
     "output_type": "stream",
     "text": [
      "Before dropna() - 1160 columns containing NaN: \n"
     ]
    },
    {
     "data": {
      "text/plain": [
       "False    3710\n",
       "True     1160\n",
       "dtype: int64"
      ]
     },
     "execution_count": 10,
     "metadata": {},
     "output_type": "execute_result"
    },
    {
     "name": "stdout",
     "output_type": "stream",
     "text": [
      "After dropna() - No columns containing NaN: \n"
     ]
    },
    {
     "data": {
      "text/plain": [
       "False    4870\n",
       "dtype: int64"
      ]
     },
     "execution_count": 10,
     "metadata": {},
     "output_type": "execute_result"
    }
   ],
   "source": [
    "# Impute zero where missing values\n",
    "\n",
    "print('Before dropna() - 1160 columns containing NaN: ')\n",
    "X.isna().any().value_counts()\n",
    "X.fillna(0, inplace=True)\n",
    "print('After dropna() - No columns containing NaN: ')\n",
    "X.isna().any().value_counts()"
   ]
  },
  {
   "cell_type": "code",
   "execution_count": 11,
   "metadata": {},
   "outputs": [],
   "source": [
    "# New targets - Most promising from baseline learners\n",
    "target_names = [\"INTENSITY\",\n",
    "                \"PLEASANTNESS\",\n",
    "                \"FRUIT\",\n",
    "                \"SWEATY\",\n",
    "                \"CHEMICAL\",\n",
    "                \"GARLIC\",\n",
    "                \"SWEET\",\n",
    "                \"ACID\",\n",
    "                \"FISH\",\n",
    "                \"URINOUS\",\n",
    "                \"MUSKY\",\n",
    "               ]\n",
    "\n",
    "Y = df.loc[:, target_names]"
   ]
  },
  {
   "cell_type": "markdown",
   "metadata": {},
   "source": [
    "## Feature Space Testing\n",
    "---\n",
    "One method for determining feature importance is to use random forest decision trees to formulate feature importance values. These values are based on ...\n",
    "\n",
    "Another moethod which was performed by the winning team of DREAM subchallenge 1 (individual prediction) is Error delta method. This method measures the increase in error rates when a feature is exluded from the descriptive features of a training set. As such the features which produce the biggest change in prediction when removed are subbed to be the most important features for prediction.\n",
    "\n",
    "The team released the top 20 features for each target. First I will train some baseline models to test the change in training times and performance when using the curated feature set for each target."
   ]
  },
  {
   "cell_type": "code",
   "execution_count": 102,
   "metadata": {},
   "outputs": [],
   "source": [
    "top20features = pd.read_excel(path_to_data + top20features_file)"
   ]
  },
  {
   "cell_type": "code",
   "execution_count": 12,
   "metadata": {},
   "outputs": [],
   "source": [
    "# from sklearn import feature_selection ### try published top 20 for now\n",
    "# SelectFromModel(LinearSVC(penalty=\"l1\")) ### use to select features as poert of pipeline\n",
    "\n",
    "# Pre-processing\n",
    "from sklearn.preprocessing import StandardScaler\n",
    "from sklearn.preprocessing import RobustScaler\n",
    "from sklearn.preprocessing import FunctionTransformer\n",
    "from sklearn.preprocessing import Imputer\n",
    "\n",
    "\n",
    "# Algorithms - Estimators\n",
    "from sklearn.linear_model import LinearRegression\n",
    "from sklearn.linear_model import Ridge\n",
    "from sklearn.linear_model import Lasso\n",
    "from sklearn.linear_model import ElasticNet\n",
    "from sklearn.linear_model import BayesianRidge\n",
    "\n",
    "from sklearn.ensemble import RandomForestRegressor\n",
    "from sklearn.ensemble import ExtraTreesRegressor\n",
    "from sklearn.ensemble import AdaBoostRegressor\n",
    "from sklearn.ensemble import GradientBoostingRegressor\n",
    "\n",
    "from sklearn.neural_network import MLPRegressor\n",
    "\n",
    "# scikit learn utilities\n",
    "from sklearn.pipeline import Pipeline, make_pipeline, FeatureUnion\n",
    "from sklearn.model_selection import cross_val_score, cross_val_predict"
   ]
  },
  {
   "cell_type": "code",
   "execution_count": 14,
   "metadata": {},
   "outputs": [],
   "source": [
    "# Assemble Pipelines for base learners\n",
    "\n",
    "linear_ols = make_pipeline(StandardScaler(), LinearRegression())\n",
    "linear_ridge = make_pipeline(StandardScaler(), Ridge())\n",
    "linear_lasso = make_pipeline(StandardScaler(), Lasso())\n",
    "linear_elastic = make_pipeline(StandardScaler(), ElasticNet())\n",
    "bayesian_ridge_regression = make_pipeline(StandardScaler(), BayesianRidge())\n",
    "\n",
    "random_forest = make_pipeline(StandardScaler(), RandomForestRegressor())\n",
    "extra_trees = make_pipeline(StandardScaler(), ExtraTreesRegressor())\n",
    "ada_boost = make_pipeline(StandardScaler(), AdaBoostRegressor())\n",
    "gradient_boosting = make_pipeline(StandardScaler(), GradientBoostingRegressor())\n",
    "\n",
    "neural_net = make_pipeline(StandardScaler(), MLPRegressor())"
   ]
  },
  {
   "cell_type": "code",
   "execution_count": 15,
   "metadata": {},
   "outputs": [],
   "source": [
    "BASE_LEARNER_TITLES = ['Linear (OLS)',\n",
    "                       'Linear (Ridge)',\n",
    "                       'Linear (Lasso)',\n",
    "                       'Linear (ElasticNet)',\n",
    "                       'Linear (BayesianRidge)',\n",
    "                       'Random Forest',\n",
    "                       'ET Random Forest',\n",
    "                       'AdaBoost',\n",
    "                       'Gradient Boosting',\n",
    "                       'Neural Net',\n",
    "                      ]"
   ]
  },
  {
   "cell_type": "code",
   "execution_count": 16,
   "metadata": {},
   "outputs": [],
   "source": [
    "# create dataframe for prediction results\n",
    "cross_val_predictions = pd.DataFrame(data=Y.values,\n",
    "                                    columns=[t + ' (ACTUAL)' for t in target_names])"
   ]
  },
  {
   "cell_type": "code",
   "execution_count": 17,
   "metadata": {},
   "outputs": [
    {
     "name": "stderr",
     "output_type": "stream",
     "text": [
      "/Users/admin/workspace/2018-mcm-kealyd2/envs/py3training/lib/python3.6/site-packages/sklearn/linear_model/base.py:509: RuntimeWarning: internal gelsd driver lwork query error, required iwork dimension not returned. This is likely the result of LAPACK bug 0038, fixed in LAPACK 3.2.2 (released July 21, 2010). Falling back to 'gelss' driver.\n",
      "  linalg.lstsq(X, y)\n",
      "/Users/admin/workspace/2018-mcm-kealyd2/envs/py3training/lib/python3.6/site-packages/sklearn/neural_network/multilayer_perceptron.py:564: ConvergenceWarning: Stochastic Optimizer: Maximum iterations (200) reached and the optimization hasn't converged yet.\n",
      "  % self.max_iter, ConvergenceWarning)\n",
      "/Users/admin/workspace/2018-mcm-kealyd2/envs/py3training/lib/python3.6/site-packages/sklearn/neural_network/multilayer_perceptron.py:564: ConvergenceWarning: Stochastic Optimizer: Maximum iterations (200) reached and the optimization hasn't converged yet.\n",
      "  % self.max_iter, ConvergenceWarning)\n",
      "/Users/admin/workspace/2018-mcm-kealyd2/envs/py3training/lib/python3.6/site-packages/sklearn/neural_network/multilayer_perceptron.py:564: ConvergenceWarning: Stochastic Optimizer: Maximum iterations (200) reached and the optimization hasn't converged yet.\n",
      "  % self.max_iter, ConvergenceWarning)\n",
      "/Users/admin/workspace/2018-mcm-kealyd2/envs/py3training/lib/python3.6/site-packages/sklearn/neural_network/multilayer_perceptron.py:564: ConvergenceWarning: Stochastic Optimizer: Maximum iterations (200) reached and the optimization hasn't converged yet.\n",
      "  % self.max_iter, ConvergenceWarning)\n",
      "/Users/admin/workspace/2018-mcm-kealyd2/envs/py3training/lib/python3.6/site-packages/sklearn/neural_network/multilayer_perceptron.py:564: ConvergenceWarning: Stochastic Optimizer: Maximum iterations (200) reached and the optimization hasn't converged yet.\n",
      "  % self.max_iter, ConvergenceWarning)\n",
      "/Users/admin/workspace/2018-mcm-kealyd2/envs/py3training/lib/python3.6/site-packages/sklearn/neural_network/multilayer_perceptron.py:564: ConvergenceWarning: Stochastic Optimizer: Maximum iterations (200) reached and the optimization hasn't converged yet.\n",
      "  % self.max_iter, ConvergenceWarning)\n",
      "/Users/admin/workspace/2018-mcm-kealyd2/envs/py3training/lib/python3.6/site-packages/sklearn/neural_network/multilayer_perceptron.py:564: ConvergenceWarning: Stochastic Optimizer: Maximum iterations (200) reached and the optimization hasn't converged yet.\n",
      "  % self.max_iter, ConvergenceWarning)\n",
      "/Users/admin/workspace/2018-mcm-kealyd2/envs/py3training/lib/python3.6/site-packages/sklearn/neural_network/multilayer_perceptron.py:564: ConvergenceWarning: Stochastic Optimizer: Maximum iterations (200) reached and the optimization hasn't converged yet.\n",
      "  % self.max_iter, ConvergenceWarning)\n",
      "/Users/admin/workspace/2018-mcm-kealyd2/envs/py3training/lib/python3.6/site-packages/sklearn/neural_network/multilayer_perceptron.py:564: ConvergenceWarning: Stochastic Optimizer: Maximum iterations (200) reached and the optimization hasn't converged yet.\n",
      "  % self.max_iter, ConvergenceWarning)\n",
      "/Users/admin/workspace/2018-mcm-kealyd2/envs/py3training/lib/python3.6/site-packages/sklearn/neural_network/multilayer_perceptron.py:564: ConvergenceWarning: Stochastic Optimizer: Maximum iterations (200) reached and the optimization hasn't converged yet.\n",
      "  % self.max_iter, ConvergenceWarning)\n",
      "/Users/admin/workspace/2018-mcm-kealyd2/envs/py3training/lib/python3.6/site-packages/sklearn/neural_network/multilayer_perceptron.py:564: ConvergenceWarning: Stochastic Optimizer: Maximum iterations (200) reached and the optimization hasn't converged yet.\n",
      "  % self.max_iter, ConvergenceWarning)\n",
      "/Users/admin/workspace/2018-mcm-kealyd2/envs/py3training/lib/python3.6/site-packages/sklearn/neural_network/multilayer_perceptron.py:564: ConvergenceWarning: Stochastic Optimizer: Maximum iterations (200) reached and the optimization hasn't converged yet.\n",
      "  % self.max_iter, ConvergenceWarning)\n",
      "/Users/admin/workspace/2018-mcm-kealyd2/envs/py3training/lib/python3.6/site-packages/sklearn/neural_network/multilayer_perceptron.py:564: ConvergenceWarning: Stochastic Optimizer: Maximum iterations (200) reached and the optimization hasn't converged yet.\n",
      "  % self.max_iter, ConvergenceWarning)\n",
      "/Users/admin/workspace/2018-mcm-kealyd2/envs/py3training/lib/python3.6/site-packages/sklearn/neural_network/multilayer_perceptron.py:564: ConvergenceWarning: Stochastic Optimizer: Maximum iterations (200) reached and the optimization hasn't converged yet.\n",
      "  % self.max_iter, ConvergenceWarning)\n",
      "/Users/admin/workspace/2018-mcm-kealyd2/envs/py3training/lib/python3.6/site-packages/sklearn/neural_network/multilayer_perceptron.py:564: ConvergenceWarning: Stochastic Optimizer: Maximum iterations (200) reached and the optimization hasn't converged yet.\n",
      "  % self.max_iter, ConvergenceWarning)\n",
      "/Users/admin/workspace/2018-mcm-kealyd2/envs/py3training/lib/python3.6/site-packages/sklearn/neural_network/multilayer_perceptron.py:564: ConvergenceWarning: Stochastic Optimizer: Maximum iterations (200) reached and the optimization hasn't converged yet.\n",
      "  % self.max_iter, ConvergenceWarning)\n",
      "/Users/admin/workspace/2018-mcm-kealyd2/envs/py3training/lib/python3.6/site-packages/sklearn/neural_network/multilayer_perceptron.py:564: ConvergenceWarning: Stochastic Optimizer: Maximum iterations (200) reached and the optimization hasn't converged yet.\n",
      "  % self.max_iter, ConvergenceWarning)\n",
      "/Users/admin/workspace/2018-mcm-kealyd2/envs/py3training/lib/python3.6/site-packages/sklearn/neural_network/multilayer_perceptron.py:564: ConvergenceWarning: Stochastic Optimizer: Maximum iterations (200) reached and the optimization hasn't converged yet.\n",
      "  % self.max_iter, ConvergenceWarning)\n",
      "/Users/admin/workspace/2018-mcm-kealyd2/envs/py3training/lib/python3.6/site-packages/sklearn/neural_network/multilayer_perceptron.py:564: ConvergenceWarning: Stochastic Optimizer: Maximum iterations (200) reached and the optimization hasn't converged yet.\n",
      "  % self.max_iter, ConvergenceWarning)\n",
      "/Users/admin/workspace/2018-mcm-kealyd2/envs/py3training/lib/python3.6/site-packages/sklearn/neural_network/multilayer_perceptron.py:564: ConvergenceWarning: Stochastic Optimizer: Maximum iterations (200) reached and the optimization hasn't converged yet.\n",
      "  % self.max_iter, ConvergenceWarning)\n",
      "/Users/admin/workspace/2018-mcm-kealyd2/envs/py3training/lib/python3.6/site-packages/sklearn/neural_network/multilayer_perceptron.py:564: ConvergenceWarning: Stochastic Optimizer: Maximum iterations (200) reached and the optimization hasn't converged yet.\n",
      "  % self.max_iter, ConvergenceWarning)\n",
      "/Users/admin/workspace/2018-mcm-kealyd2/envs/py3training/lib/python3.6/site-packages/sklearn/neural_network/multilayer_perceptron.py:564: ConvergenceWarning: Stochastic Optimizer: Maximum iterations (200) reached and the optimization hasn't converged yet.\n",
      "  % self.max_iter, ConvergenceWarning)\n",
      "/Users/admin/workspace/2018-mcm-kealyd2/envs/py3training/lib/python3.6/site-packages/sklearn/neural_network/multilayer_perceptron.py:564: ConvergenceWarning: Stochastic Optimizer: Maximum iterations (200) reached and the optimization hasn't converged yet.\n",
      "  % self.max_iter, ConvergenceWarning)\n",
      "/Users/admin/workspace/2018-mcm-kealyd2/envs/py3training/lib/python3.6/site-packages/sklearn/neural_network/multilayer_perceptron.py:564: ConvergenceWarning: Stochastic Optimizer: Maximum iterations (200) reached and the optimization hasn't converged yet.\n",
      "  % self.max_iter, ConvergenceWarning)\n",
      "/Users/admin/workspace/2018-mcm-kealyd2/envs/py3training/lib/python3.6/site-packages/sklearn/neural_network/multilayer_perceptron.py:564: ConvergenceWarning: Stochastic Optimizer: Maximum iterations (200) reached and the optimization hasn't converged yet.\n",
      "  % self.max_iter, ConvergenceWarning)\n",
      "/Users/admin/workspace/2018-mcm-kealyd2/envs/py3training/lib/python3.6/site-packages/sklearn/neural_network/multilayer_perceptron.py:564: ConvergenceWarning: Stochastic Optimizer: Maximum iterations (200) reached and the optimization hasn't converged yet.\n",
      "  % self.max_iter, ConvergenceWarning)\n",
      "/Users/admin/workspace/2018-mcm-kealyd2/envs/py3training/lib/python3.6/site-packages/sklearn/neural_network/multilayer_perceptron.py:564: ConvergenceWarning: Stochastic Optimizer: Maximum iterations (200) reached and the optimization hasn't converged yet.\n",
      "  % self.max_iter, ConvergenceWarning)\n"
     ]
    },
    {
     "name": "stderr",
     "output_type": "stream",
     "text": [
      "/Users/admin/workspace/2018-mcm-kealyd2/envs/py3training/lib/python3.6/site-packages/sklearn/neural_network/multilayer_perceptron.py:564: ConvergenceWarning: Stochastic Optimizer: Maximum iterations (200) reached and the optimization hasn't converged yet.\n",
      "  % self.max_iter, ConvergenceWarning)\n",
      "/Users/admin/workspace/2018-mcm-kealyd2/envs/py3training/lib/python3.6/site-packages/sklearn/neural_network/multilayer_perceptron.py:564: ConvergenceWarning: Stochastic Optimizer: Maximum iterations (200) reached and the optimization hasn't converged yet.\n",
      "  % self.max_iter, ConvergenceWarning)\n",
      "/Users/admin/workspace/2018-mcm-kealyd2/envs/py3training/lib/python3.6/site-packages/sklearn/neural_network/multilayer_perceptron.py:564: ConvergenceWarning: Stochastic Optimizer: Maximum iterations (200) reached and the optimization hasn't converged yet.\n",
      "  % self.max_iter, ConvergenceWarning)\n",
      "/Users/admin/workspace/2018-mcm-kealyd2/envs/py3training/lib/python3.6/site-packages/sklearn/neural_network/multilayer_perceptron.py:564: ConvergenceWarning: Stochastic Optimizer: Maximum iterations (200) reached and the optimization hasn't converged yet.\n",
      "  % self.max_iter, ConvergenceWarning)\n",
      "/Users/admin/workspace/2018-mcm-kealyd2/envs/py3training/lib/python3.6/site-packages/sklearn/neural_network/multilayer_perceptron.py:564: ConvergenceWarning: Stochastic Optimizer: Maximum iterations (200) reached and the optimization hasn't converged yet.\n",
      "  % self.max_iter, ConvergenceWarning)\n",
      "/Users/admin/workspace/2018-mcm-kealyd2/envs/py3training/lib/python3.6/site-packages/sklearn/neural_network/multilayer_perceptron.py:564: ConvergenceWarning: Stochastic Optimizer: Maximum iterations (200) reached and the optimization hasn't converged yet.\n",
      "  % self.max_iter, ConvergenceWarning)\n",
      "/Users/admin/workspace/2018-mcm-kealyd2/envs/py3training/lib/python3.6/site-packages/sklearn/neural_network/multilayer_perceptron.py:564: ConvergenceWarning: Stochastic Optimizer: Maximum iterations (200) reached and the optimization hasn't converged yet.\n",
      "  % self.max_iter, ConvergenceWarning)\n",
      "/Users/admin/workspace/2018-mcm-kealyd2/envs/py3training/lib/python3.6/site-packages/sklearn/neural_network/multilayer_perceptron.py:564: ConvergenceWarning: Stochastic Optimizer: Maximum iterations (200) reached and the optimization hasn't converged yet.\n",
      "  % self.max_iter, ConvergenceWarning)\n",
      "/Users/admin/workspace/2018-mcm-kealyd2/envs/py3training/lib/python3.6/site-packages/sklearn/neural_network/multilayer_perceptron.py:564: ConvergenceWarning: Stochastic Optimizer: Maximum iterations (200) reached and the optimization hasn't converged yet.\n",
      "  % self.max_iter, ConvergenceWarning)\n",
      "/Users/admin/workspace/2018-mcm-kealyd2/envs/py3training/lib/python3.6/site-packages/sklearn/neural_network/multilayer_perceptron.py:564: ConvergenceWarning: Stochastic Optimizer: Maximum iterations (200) reached and the optimization hasn't converged yet.\n",
      "  % self.max_iter, ConvergenceWarning)\n",
      "/Users/admin/workspace/2018-mcm-kealyd2/envs/py3training/lib/python3.6/site-packages/sklearn/neural_network/multilayer_perceptron.py:564: ConvergenceWarning: Stochastic Optimizer: Maximum iterations (200) reached and the optimization hasn't converged yet.\n",
      "  % self.max_iter, ConvergenceWarning)\n",
      "/Users/admin/workspace/2018-mcm-kealyd2/envs/py3training/lib/python3.6/site-packages/sklearn/neural_network/multilayer_perceptron.py:564: ConvergenceWarning: Stochastic Optimizer: Maximum iterations (200) reached and the optimization hasn't converged yet.\n",
      "  % self.max_iter, ConvergenceWarning)\n",
      "/Users/admin/workspace/2018-mcm-kealyd2/envs/py3training/lib/python3.6/site-packages/sklearn/neural_network/multilayer_perceptron.py:564: ConvergenceWarning: Stochastic Optimizer: Maximum iterations (200) reached and the optimization hasn't converged yet.\n",
      "  % self.max_iter, ConvergenceWarning)\n",
      "/Users/admin/workspace/2018-mcm-kealyd2/envs/py3training/lib/python3.6/site-packages/sklearn/neural_network/multilayer_perceptron.py:564: ConvergenceWarning: Stochastic Optimizer: Maximum iterations (200) reached and the optimization hasn't converged yet.\n",
      "  % self.max_iter, ConvergenceWarning)\n",
      "/Users/admin/workspace/2018-mcm-kealyd2/envs/py3training/lib/python3.6/site-packages/sklearn/neural_network/multilayer_perceptron.py:564: ConvergenceWarning: Stochastic Optimizer: Maximum iterations (200) reached and the optimization hasn't converged yet.\n",
      "  % self.max_iter, ConvergenceWarning)\n",
      "/Users/admin/workspace/2018-mcm-kealyd2/envs/py3training/lib/python3.6/site-packages/sklearn/neural_network/multilayer_perceptron.py:564: ConvergenceWarning: Stochastic Optimizer: Maximum iterations (200) reached and the optimization hasn't converged yet.\n",
      "  % self.max_iter, ConvergenceWarning)\n",
      "/Users/admin/workspace/2018-mcm-kealyd2/envs/py3training/lib/python3.6/site-packages/sklearn/neural_network/multilayer_perceptron.py:564: ConvergenceWarning: Stochastic Optimizer: Maximum iterations (200) reached and the optimization hasn't converged yet.\n",
      "  % self.max_iter, ConvergenceWarning)\n",
      "/Users/admin/workspace/2018-mcm-kealyd2/envs/py3training/lib/python3.6/site-packages/sklearn/neural_network/multilayer_perceptron.py:564: ConvergenceWarning: Stochastic Optimizer: Maximum iterations (200) reached and the optimization hasn't converged yet.\n",
      "  % self.max_iter, ConvergenceWarning)\n",
      "/Users/admin/workspace/2018-mcm-kealyd2/envs/py3training/lib/python3.6/site-packages/sklearn/neural_network/multilayer_perceptron.py:564: ConvergenceWarning: Stochastic Optimizer: Maximum iterations (200) reached and the optimization hasn't converged yet.\n",
      "  % self.max_iter, ConvergenceWarning)\n",
      "/Users/admin/workspace/2018-mcm-kealyd2/envs/py3training/lib/python3.6/site-packages/sklearn/neural_network/multilayer_perceptron.py:564: ConvergenceWarning: Stochastic Optimizer: Maximum iterations (200) reached and the optimization hasn't converged yet.\n",
      "  % self.max_iter, ConvergenceWarning)\n",
      "/Users/admin/workspace/2018-mcm-kealyd2/envs/py3training/lib/python3.6/site-packages/sklearn/neural_network/multilayer_perceptron.py:564: ConvergenceWarning: Stochastic Optimizer: Maximum iterations (200) reached and the optimization hasn't converged yet.\n",
      "  % self.max_iter, ConvergenceWarning)\n",
      "/Users/admin/workspace/2018-mcm-kealyd2/envs/py3training/lib/python3.6/site-packages/sklearn/neural_network/multilayer_perceptron.py:564: ConvergenceWarning: Stochastic Optimizer: Maximum iterations (200) reached and the optimization hasn't converged yet.\n",
      "  % self.max_iter, ConvergenceWarning)\n",
      "/Users/admin/workspace/2018-mcm-kealyd2/envs/py3training/lib/python3.6/site-packages/sklearn/neural_network/multilayer_perceptron.py:564: ConvergenceWarning: Stochastic Optimizer: Maximum iterations (200) reached and the optimization hasn't converged yet.\n",
      "  % self.max_iter, ConvergenceWarning)\n",
      "/Users/admin/workspace/2018-mcm-kealyd2/envs/py3training/lib/python3.6/site-packages/sklearn/neural_network/multilayer_perceptron.py:564: ConvergenceWarning: Stochastic Optimizer: Maximum iterations (200) reached and the optimization hasn't converged yet.\n",
      "  % self.max_iter, ConvergenceWarning)\n",
      "/Users/admin/workspace/2018-mcm-kealyd2/envs/py3training/lib/python3.6/site-packages/sklearn/neural_network/multilayer_perceptron.py:564: ConvergenceWarning: Stochastic Optimizer: Maximum iterations (200) reached and the optimization hasn't converged yet.\n",
      "  % self.max_iter, ConvergenceWarning)\n",
      "/Users/admin/workspace/2018-mcm-kealyd2/envs/py3training/lib/python3.6/site-packages/sklearn/neural_network/multilayer_perceptron.py:564: ConvergenceWarning: Stochastic Optimizer: Maximum iterations (200) reached and the optimization hasn't converged yet.\n",
      "  % self.max_iter, ConvergenceWarning)\n",
      "/Users/admin/workspace/2018-mcm-kealyd2/envs/py3training/lib/python3.6/site-packages/sklearn/neural_network/multilayer_perceptron.py:564: ConvergenceWarning: Stochastic Optimizer: Maximum iterations (200) reached and the optimization hasn't converged yet.\n",
      "  % self.max_iter, ConvergenceWarning)\n"
     ]
    },
    {
     "name": "stdout",
     "output_type": "stream",
     "text": [
      "CPU times: user 1min 47s, sys: 6.81 s, total: 1min 54s\n",
      "Wall time: 1min 54s\n"
     ]
    },
    {
     "name": "stderr",
     "output_type": "stream",
     "text": [
      "/Users/admin/workspace/2018-mcm-kealyd2/envs/py3training/lib/python3.6/site-packages/sklearn/neural_network/multilayer_perceptron.py:564: ConvergenceWarning: Stochastic Optimizer: Maximum iterations (200) reached and the optimization hasn't converged yet.\n",
      "  % self.max_iter, ConvergenceWarning)\n"
     ]
    }
   ],
   "source": [
    "%%time\n",
    "# 5-Fold Cross validation - for each target in Y\n",
    "for target in target_names:\n",
    "    feature_names = list(top20features[target])\n",
    "    cross_val_predictions[(target +' ('+ BASE_LEARNER_TITLES[0]) +')'] = cross_val_predict(linear_ols, X[feature_names], Y[target], cv=5)\n",
    "    cross_val_predictions[(target +' ('+ BASE_LEARNER_TITLES[1]) +')'] = cross_val_predict(linear_ridge, X[feature_names], Y[target], cv=5)\n",
    "    cross_val_predictions[(target +' ('+ BASE_LEARNER_TITLES[2]) +')'] = cross_val_predict(linear_lasso, X[feature_names], Y[target], cv=5)\n",
    "    cross_val_predictions[(target +' ('+ BASE_LEARNER_TITLES[3]) +')'] = cross_val_predict(linear_elastic, X[feature_names], Y[target], cv=5)\n",
    "    cross_val_predictions[(target +' ('+ BASE_LEARNER_TITLES[4]) +')'] = cross_val_predict(bayesian_ridge_regression, X[feature_names], Y[target], cv=5)\n",
    "    cross_val_predictions[(target +' ('+ BASE_LEARNER_TITLES[5]) +')'] = cross_val_predict(random_forest, X[feature_names], Y[target], cv=5)\n",
    "    cross_val_predictions[(target +' ('+ BASE_LEARNER_TITLES[6]) +')'] = cross_val_predict(extra_trees, X[feature_names], Y[target], cv=5)\n",
    "    cross_val_predictions[(target +' ('+ BASE_LEARNER_TITLES[7]) +')'] = cross_val_predict(ada_boost, X[feature_names], Y[target], cv=5)\n",
    "    cross_val_predictions[(target +' ('+ BASE_LEARNER_TITLES[8]) +')'] = cross_val_predict(gradient_boosting, X[feature_names], Y[target], cv=5)\n",
    "    cross_val_predictions[(target +' ('+ BASE_LEARNER_TITLES[9]) +')'] = cross_val_predict(neural_net, X[feature_names], Y[target], cv=5)\n",
    "\n",
    "# produces convergence warnings for most of the neural network instances"
   ]
  },
  {
   "cell_type": "markdown",
   "metadata": {},
   "source": [
    "## Intensity Predictions"
   ]
  },
  {
   "cell_type": "code",
   "execution_count": 29,
   "metadata": {},
   "outputs": [
    {
     "data": {
      "text/plain": [
       "Text(0,0.5,'Prediction Correlation (R)')"
      ]
     },
     "execution_count": 29,
     "metadata": {},
     "output_type": "execute_result"
    },
    {
     "data": {
      "text/plain": [
       "(array([0, 1, 2, 3, 4, 5, 6, 7, 8, 9]), <a list of 10 Text xticklabel objects>)"
      ]
     },
     "execution_count": 29,
     "metadata": {},
     "output_type": "execute_result"
    },
    {
     "data": {
      "text/plain": [
       "Text(0.5,1,'Prediction Accuracy for Baseline - INTENSITY')"
      ]
     },
     "execution_count": 29,
     "metadata": {},
     "output_type": "execute_result"
    },
    {
     "data": {
      "text/plain": [
       "INTENSITY (Linear (OLS))              0.172833\n",
       "INTENSITY (Linear (Ridge))            0.171911\n",
       "INTENSITY (Linear (Lasso))            0.048377\n",
       "INTENSITY (Linear (ElasticNet))       0.078910\n",
       "INTENSITY (Linear (BayesianRidge))    0.123804\n",
       "INTENSITY (Random Forest)             0.181056\n",
       "INTENSITY (ET Random Forest)          0.204457\n",
       "INTENSITY (AdaBoost)                  0.205806\n",
       "INTENSITY (Gradient Boosting)         0.224549\n",
       "INTENSITY (Neural Net)                0.055578\n",
       "Name: actual, dtype: float64"
      ]
     },
     "execution_count": 29,
     "metadata": {},
     "output_type": "execute_result"
    },
    {
     "data": {
      "image/png": "[encoded data removed]",
      "text/plain": [
       "<Figure size 432x288 with 1 Axes>"
      ]
     },
     "metadata": {},
     "output_type": "display_data"
    }
   ],
   "source": [
    "int_predictions = cross_val_predictions.iloc[:, 11:21]\n",
    "int_predictions['actual'] = cross_val_predictions.iloc[:, 0]\n",
    "int_predictions_corr = int_predictions.corr()['actual'][:-1]\n",
    "sb.barplot(x=BASE_LEARNER_TITLES, y=int_predictions_corr.values).set_ylabel('Prediction Correlation (R)')\n",
    "plt.xticks(rotation=90)\n",
    "plt.title('Prediction Accuracy for Baseline - INTENSITY')\n",
    "int_predictions_corr"
   ]
  },
  {
   "cell_type": "markdown",
   "metadata": {},
   "source": [
    "### Intensity Results\n",
    "Pedictions are worse overall compared to using all features"
   ]
  },
  {
   "cell_type": "markdown",
   "metadata": {},
   "source": [
    "## Pleasantness Predictions"
   ]
  },
  {
   "cell_type": "code",
   "execution_count": 30,
   "metadata": {},
   "outputs": [
    {
     "data": {
      "text/plain": [
       "Text(0,0.5,'Prediction Correlation (R)')"
      ]
     },
     "execution_count": 30,
     "metadata": {},
     "output_type": "execute_result"
    },
    {
     "data": {
      "text/plain": [
       "(array([0, 1, 2, 3, 4, 5, 6, 7, 8, 9]), <a list of 10 Text xticklabel objects>)"
      ]
     },
     "execution_count": 30,
     "metadata": {},
     "output_type": "execute_result"
    },
    {
     "data": {
      "text/plain": [
       "Text(0.5,1,'Prediction Accuracy for Baseline - PLEASANTNESS')"
      ]
     },
     "execution_count": 30,
     "metadata": {},
     "output_type": "execute_result"
    },
    {
     "data": {
      "text/plain": [
       "PLEASANTNESS (Linear (OLS))             -0.039766\n",
       "PLEASANTNESS (Linear (Ridge))            0.346492\n",
       "PLEASANTNESS (Linear (Lasso))            0.387748\n",
       "PLEASANTNESS (Linear (ElasticNet))       0.398009\n",
       "PLEASANTNESS (Linear (BayesianRidge))    0.397571\n",
       "PLEASANTNESS (Random Forest)             0.518581\n",
       "PLEASANTNESS (ET Random Forest)          0.487552\n",
       "PLEASANTNESS (AdaBoost)                  0.495528\n",
       "PLEASANTNESS (Gradient Boosting)         0.502226\n",
       "PLEASANTNESS (Neural Net)                0.257037\n",
       "Name: actual, dtype: float64"
      ]
     },
     "execution_count": 30,
     "metadata": {},
     "output_type": "execute_result"
    },
    {
     "data": {
      "image/png": "[encoded data removed]",
      "text/plain": [
       "<Figure size 432x288 with 1 Axes>"
      ]
     },
     "metadata": {},
     "output_type": "display_data"
    }
   ],
   "source": [
    "ple_predictions = cross_val_predictions.iloc[:, 21:31]\n",
    "ple_predictions['actual'] = cross_val_predictions.iloc[:, 1]\n",
    "ple_predictions_corr = ple_predictions.corr()['actual'][:-1]\n",
    "sb.barplot(x=BASE_LEARNER_TITLES, y=ple_predictions_corr.values).set_ylabel('Prediction Correlation (R)')\n",
    "plt.xticks(rotation=90)\n",
    "plt.title('Prediction Accuracy for Baseline - PLEASANTNESS')\n",
    "ple_predictions_corr"
   ]
  },
  {
   "cell_type": "markdown",
   "metadata": {},
   "source": [
    "### Peasentness Results\n",
    "\n",
    "These results are similar or worse than our base learners using all features. Random forrest by contrast displays an increase in prediction accuracy - obviously due to the fact that this is the algorithm from which these features were derived. "
   ]
  },
  {
   "cell_type": "markdown",
   "metadata": {},
   "source": [
    "## Semantic Predictions"
   ]
  },
  {
   "cell_type": "code",
   "execution_count": 34,
   "metadata": {},
   "outputs": [],
   "source": [
    "sem_predictions = cross_val_predictions.iloc[:, 31:]\n",
    "semantic_labels = target_names[2:]\n",
    "for label, i in zip(semantic_labels, range(len(sem_predictions))):\n",
    "    sem_predictions[label] = cross_val_predictions.iloc[:, (i+2)]"
   ]
  },
  {
   "cell_type": "code",
   "execution_count": 38,
   "metadata": {},
   "outputs": [],
   "source": [
    "sem_predictions_corr = pd.DataFrame()\n",
    "for i in range(0, 90, 10):\n",
    "    sem_predictions_corr[semantic_labels[i//10]] = sem_predictions.corr()[semantic_labels[i//10]][i:i+10].values\n",
    "\n",
    "\n",
    "sem_predictions_corr['Algorithm'] = BASE_LEARNER_TITLES\n",
    "\n",
    "sem_predictions_corr.set_index('Algorithm', inplace=True)"
   ]
  },
  {
   "cell_type": "code",
   "execution_count": 42,
   "metadata": {},
   "outputs": [
    {
     "data": {
      "text/html": [
       "<div>\n",
       "<style scoped>\n",
       "    .dataframe tbody tr th:only-of-type {\n",
       "        vertical-align: middle;\n",
       "    }\n",
       "\n",
       "    .dataframe tbody tr th {\n",
       "        vertical-align: top;\n",
       "    }\n",
       "\n",
       "    .dataframe thead th {\n",
       "        text-align: right;\n",
       "    }\n",
       "</style>\n",
       "<table border=\"1\" class=\"dataframe\">\n",
       "  <thead>\n",
       "    <tr style=\"text-align: right;\">\n",
       "      <th></th>\n",
       "      <th>FRUIT</th>\n",
       "      <th>SWEATY</th>\n",
       "      <th>CHEMICAL</th>\n",
       "      <th>GARLIC</th>\n",
       "      <th>SWEET</th>\n",
       "      <th>ACID</th>\n",
       "      <th>FISH</th>\n",
       "      <th>URINOUS</th>\n",
       "      <th>MUSKY</th>\n",
       "    </tr>\n",
       "    <tr>\n",
       "      <th>Algorithm</th>\n",
       "      <th></th>\n",
       "      <th></th>\n",
       "      <th></th>\n",
       "      <th></th>\n",
       "      <th></th>\n",
       "      <th></th>\n",
       "      <th></th>\n",
       "      <th></th>\n",
       "      <th></th>\n",
       "    </tr>\n",
       "  </thead>\n",
       "  <tbody>\n",
       "    <tr>\n",
       "      <th>Linear (OLS)</th>\n",
       "      <td>0.310805</td>\n",
       "      <td>0.144619</td>\n",
       "      <td>0.170654</td>\n",
       "      <td>0.058976</td>\n",
       "      <td>0.101722</td>\n",
       "      <td>0.073598</td>\n",
       "      <td>-0.001942</td>\n",
       "      <td>0.154701</td>\n",
       "      <td>0.201716</td>\n",
       "    </tr>\n",
       "    <tr>\n",
       "      <th>Linear (Ridge)</th>\n",
       "      <td>0.310491</td>\n",
       "      <td>0.145953</td>\n",
       "      <td>0.162422</td>\n",
       "      <td>0.125047</td>\n",
       "      <td>0.103581</td>\n",
       "      <td>0.076613</td>\n",
       "      <td>0.184359</td>\n",
       "      <td>0.154987</td>\n",
       "      <td>0.202007</td>\n",
       "    </tr>\n",
       "    <tr>\n",
       "      <th>Linear (Lasso)</th>\n",
       "      <td>0.259432</td>\n",
       "      <td>0.083288</td>\n",
       "      <td>0.192308</td>\n",
       "      <td>0.003073</td>\n",
       "      <td>0.114760</td>\n",
       "      <td>-0.077472</td>\n",
       "      <td>0.142247</td>\n",
       "      <td>0.135676</td>\n",
       "      <td>0.185030</td>\n",
       "    </tr>\n",
       "    <tr>\n",
       "      <th>Linear (ElasticNet)</th>\n",
       "      <td>0.284183</td>\n",
       "      <td>0.123798</td>\n",
       "      <td>0.198408</td>\n",
       "      <td>0.034908</td>\n",
       "      <td>0.142235</td>\n",
       "      <td>-0.021975</td>\n",
       "      <td>0.183881</td>\n",
       "      <td>0.146344</td>\n",
       "      <td>0.211807</td>\n",
       "    </tr>\n",
       "    <tr>\n",
       "      <th>Linear (BayesianRidge)</th>\n",
       "      <td>0.305991</td>\n",
       "      <td>0.133395</td>\n",
       "      <td>0.171211</td>\n",
       "      <td>0.027730</td>\n",
       "      <td>0.161378</td>\n",
       "      <td>0.019343</td>\n",
       "      <td>0.198043</td>\n",
       "      <td>0.150909</td>\n",
       "      <td>0.222053</td>\n",
       "    </tr>\n",
       "    <tr>\n",
       "      <th>Random Forest</th>\n",
       "      <td>0.218005</td>\n",
       "      <td>0.120342</td>\n",
       "      <td>0.052286</td>\n",
       "      <td>0.115785</td>\n",
       "      <td>0.199929</td>\n",
       "      <td>-0.011826</td>\n",
       "      <td>0.163223</td>\n",
       "      <td>0.096131</td>\n",
       "      <td>0.183247</td>\n",
       "    </tr>\n",
       "    <tr>\n",
       "      <th>ET Random Forest</th>\n",
       "      <td>0.261089</td>\n",
       "      <td>0.142280</td>\n",
       "      <td>0.102871</td>\n",
       "      <td>0.117071</td>\n",
       "      <td>0.197139</td>\n",
       "      <td>0.023485</td>\n",
       "      <td>0.148635</td>\n",
       "      <td>0.163489</td>\n",
       "      <td>0.180694</td>\n",
       "    </tr>\n",
       "    <tr>\n",
       "      <th>AdaBoost</th>\n",
       "      <td>0.212645</td>\n",
       "      <td>0.149688</td>\n",
       "      <td>0.099683</td>\n",
       "      <td>0.122419</td>\n",
       "      <td>0.083556</td>\n",
       "      <td>0.112711</td>\n",
       "      <td>0.119079</td>\n",
       "      <td>0.130744</td>\n",
       "      <td>0.201426</td>\n",
       "    </tr>\n",
       "    <tr>\n",
       "      <th>Gradient Boosting</th>\n",
       "      <td>0.284507</td>\n",
       "      <td>0.186088</td>\n",
       "      <td>0.056633</td>\n",
       "      <td>0.121035</td>\n",
       "      <td>0.220037</td>\n",
       "      <td>0.044162</td>\n",
       "      <td>0.162580</td>\n",
       "      <td>0.181500</td>\n",
       "      <td>0.177426</td>\n",
       "    </tr>\n",
       "    <tr>\n",
       "      <th>Neural Net</th>\n",
       "      <td>0.297343</td>\n",
       "      <td>0.130768</td>\n",
       "      <td>0.013048</td>\n",
       "      <td>0.146836</td>\n",
       "      <td>0.133419</td>\n",
       "      <td>0.051715</td>\n",
       "      <td>0.209452</td>\n",
       "      <td>0.102650</td>\n",
       "      <td>0.228421</td>\n",
       "    </tr>\n",
       "  </tbody>\n",
       "</table>\n",
       "</div>"
      ],
      "text/plain": [
       "                           FRUIT    SWEATY  CHEMICAL    GARLIC     SWEET  \\\n",
       "Algorithm                                                                  \n",
       "Linear (OLS)            0.310805  0.144619  0.170654  0.058976  0.101722   \n",
       "Linear (Ridge)          0.310491  0.145953  0.162422  0.125047  0.103581   \n",
       "Linear (Lasso)          0.259432  0.083288  0.192308  0.003073  0.114760   \n",
       "Linear (ElasticNet)     0.284183  0.123798  0.198408  0.034908  0.142235   \n",
       "Linear (BayesianRidge)  0.305991  0.133395  0.171211  0.027730  0.161378   \n",
       "Random Forest           0.218005  0.120342  0.052286  0.115785  0.199929   \n",
       "ET Random Forest        0.261089  0.142280  0.102871  0.117071  0.197139   \n",
       "AdaBoost                0.212645  0.149688  0.099683  0.122419  0.083556   \n",
       "Gradient Boosting       0.284507  0.186088  0.056633  0.121035  0.220037   \n",
       "Neural Net              0.297343  0.130768  0.013048  0.146836  0.133419   \n",
       "\n",
       "                            ACID      FISH   URINOUS     MUSKY  \n",
       "Algorithm                                                       \n",
       "Linear (OLS)            0.073598 -0.001942  0.154701  0.201716  \n",
       "Linear (Ridge)          0.076613  0.184359  0.154987  0.202007  \n",
       "Linear (Lasso)         -0.077472  0.142247  0.135676  0.185030  \n",
       "Linear (ElasticNet)    -0.021975  0.183881  0.146344  0.211807  \n",
       "Linear (BayesianRidge)  0.019343  0.198043  0.150909  0.222053  \n",
       "Random Forest          -0.011826  0.163223  0.096131  0.183247  \n",
       "ET Random Forest        0.023485  0.148635  0.163489  0.180694  \n",
       "AdaBoost                0.112711  0.119079  0.130744  0.201426  \n",
       "Gradient Boosting       0.044162  0.162580  0.181500  0.177426  \n",
       "Neural Net              0.051715  0.209452  0.102650  0.228421  "
      ]
     },
     "execution_count": 42,
     "metadata": {},
     "output_type": "execute_result"
    }
   ],
   "source": [
    "sem_predictions_corr"
   ]
  },
  {
   "cell_type": "code",
   "execution_count": 40,
   "metadata": {},
   "outputs": [
    {
     "data": {
      "text/plain": [
       "Text(0,0.5,'Prediction Correlation (R)')"
      ]
     },
     "execution_count": 40,
     "metadata": {},
     "output_type": "execute_result"
    },
    {
     "data": {
      "text/plain": [
       "(array([0, 1, 2, 3, 4, 5, 6, 7, 8, 9]), <a list of 10 Text xticklabel objects>)"
      ]
     },
     "execution_count": 40,
     "metadata": {},
     "output_type": "execute_result"
    },
    {
     "data": {
      "text/plain": [
       "Text(0.5,1,'Prediction Accuracy for Baseline - Average of Semantic Descriptors')"
      ]
     },
     "execution_count": 40,
     "metadata": {},
     "output_type": "execute_result"
    },
    {
     "data": {
      "image/png": "[encoded data removed]",
      "text/plain": [
       "<Figure size 432x288 with 1 Axes>"
      ]
     },
     "metadata": {},
     "output_type": "display_data"
    }
   ],
   "source": [
    "sb.barplot(x=BASE_LEARNER_TITLES, y=sem_predictions_corr.mean(axis=1).values).set_ylabel('Prediction Correlation (R)')\n",
    "plt.xticks(rotation=90)\n",
    "plt.title('Prediction Accuracy for Baseline - Average of Semantic Descriptors')"
   ]
  },
  {
   "cell_type": "markdown",
   "metadata": {},
   "source": [
    "### Results from feature reduction\n",
    "---\n",
    "Using the top 20 features published previously we have reduced our training time vastly and our predictions have improved in some cases and degraded in others. \n",
    "\n",
    "Linear Least Squares and Linear Ridge algorithms now perform more comparably to the others as expected.\n",
    "\n",
    "I expected a greater increase in our accuracy from random forest methods but I believe that these methods are still hindered by defalut parameters and the ill-posed nature of training using the mean responses. My own previous experiments have shown that random forest methods perform poorly until n_trees is increased beyond the default. \n",
    "\n",
    "The correlation from predictions on pleasantness vs target pleasentness values jumped from 0.43 to 0.51 for Random Forest when using 20 features vs all features."
   ]
  },
  {
   "cell_type": "markdown",
   "metadata": {},
   "source": [
    "## Reset Data"
   ]
  },
  {
   "cell_type": "code",
   "execution_count": 43,
   "metadata": {},
   "outputs": [
    {
     "name": "stdout",
     "output_type": "stream",
     "text": [
      "Before dropna() - 1160 columns containing NaN: \n"
     ]
    },
    {
     "data": {
      "text/plain": [
       "False    3710\n",
       "True     1160\n",
       "dtype: int64"
      ]
     },
     "execution_count": 43,
     "metadata": {},
     "output_type": "execute_result"
    },
    {
     "name": "stdout",
     "output_type": "stream",
     "text": [
      "After dropna() - No columns containing NaN: \n"
     ]
    },
    {
     "data": {
      "text/plain": [
       "False    3710\n",
       "dtype: int64"
      ]
     },
     "execution_count": 43,
     "metadata": {},
     "output_type": "execute_result"
    }
   ],
   "source": [
    "X = df.iloc[:, 25:]\n",
    "X['Odor dilution'] = df['Odor dilution']\n",
    "\n",
    "print('Before dropna() - 1160 columns containing NaN: ')\n",
    "X.isna().any().value_counts()\n",
    "X.dropna(how='any', axis=1, inplace=True)\n",
    "print('After dropna() - No columns containing NaN: ')\n",
    "X.isna().any().value_counts()\n",
    "\n",
    "Y = df.loc[:, target_names]"
   ]
  },
  {
   "cell_type": "markdown",
   "metadata": {},
   "source": [
    "## Hyperparameter Tuning - Randomised Search\n",
    "---\n",
    "\n",
    "- Here our goal is to improve our model predictions using a Randomized Search Grid cross validation process.\n",
    "\n",
    "- We sample different parameter values `n` times and perform `k`-fold cross validation `n*k` times using `n` different random parameters from a distribution we select. \n",
    "\n",
    "- Ideally we want to find models of different types that predict well so we can perform XAI techniques on said models and compare the interpretation process accross machine learning algortihms.\n",
    "\n",
    "- As such, our goal is not to train the best model possible but rather train a variety that are good enough. \n",
    "\n",
    "- Then we will test these tuned models on our test data (to guage their real world predictiveness) and persist the best performing models."
   ]
  },
  {
   "cell_type": "code",
   "execution_count": 167,
   "metadata": {},
   "outputs": [],
   "source": [
    "from sklearn.model_selection import GridSearchCV, RandomizedSearchCV\n",
    "from scipy.stats import randint\n",
    "from scipy.stats import uniform\n",
    "\n",
    "# lists to store our results & tune parameters\n",
    "params = []\n",
    "pipelines = []\n",
    "grids = {}\n",
    "\n",
    "# add ML pipelines to list\n",
    "pipelines.append(linear_lasso)\n",
    "pipelines.append(linear_elastic)\n",
    "pipelines.append(random_forest)\n",
    "pipelines.append(extra_trees)\n",
    "pipelines.append(gradient_boosting)\n",
    "\n",
    "# specify parameters and distributions to sample from\n",
    "params.append({'lasso__alpha': uniform(0.001, 1)})\n",
    "params.append({'elasticnet__alpha': uniform(0.001, 1),\n",
    "               'elasticnet__l1_ratio': uniform(0, 1)})\n",
    "params.append({'randomforestregressor__n_estimators': [10, 20, 50, 100, 1000],\n",
    "               'randomforestregressor__max_depth': [None, 5, 10]})\n",
    "params.append({'extratreesregressor__n_estimators': [10, 50, 100, 200, 2000],\n",
    "               'extratreesregressor__max_depth': [None, 5, 10]})\n",
    "params.append({'gradientboostingregressor__n_estimators': [100, 200, 300, 2000],\n",
    "               'gradientboostingregressor__learning_rate': [0.05, 0.1, 0.15],\n",
    "               'gradientboostingregressor__subsample': [0.8, 1]})\n"
   ]
  },
  {
   "cell_type": "code",
   "execution_count": 168,
   "metadata": {
    "scrolled": true
   },
   "outputs": [
    {
     "name": "stderr",
     "output_type": "stream",
     "text": [
      "/Users/admin/workspace/2018-mcm-kealyd2/envs/py3training/lib/python3.6/site-packages/sklearn/linear_model/coordinate_descent.py:491: ConvergenceWarning: Objective did not converge. You might want to increase the number of iterations. Fitting data with very small alpha may cause precision problems.\n",
      "  ConvergenceWarning)\n",
      "/Users/admin/workspace/2018-mcm-kealyd2/envs/py3training/lib/python3.6/site-packages/sklearn/linear_model/coordinate_descent.py:491: ConvergenceWarning: Objective did not converge. You might want to increase the number of iterations. Fitting data with very small alpha may cause precision problems.\n",
      "  ConvergenceWarning)\n",
      "/Users/admin/workspace/2018-mcm-kealyd2/envs/py3training/lib/python3.6/site-packages/sklearn/linear_model/coordinate_descent.py:491: ConvergenceWarning: Objective did not converge. You might want to increase the number of iterations. Fitting data with very small alpha may cause precision problems.\n",
      "  ConvergenceWarning)\n",
      "/Users/admin/workspace/2018-mcm-kealyd2/envs/py3training/lib/python3.6/site-packages/sklearn/linear_model/coordinate_descent.py:491: ConvergenceWarning: Objective did not converge. You might want to increase the number of iterations. Fitting data with very small alpha may cause precision problems.\n",
      "  ConvergenceWarning)\n",
      "/Users/admin/workspace/2018-mcm-kealyd2/envs/py3training/lib/python3.6/site-packages/sklearn/linear_model/coordinate_descent.py:491: ConvergenceWarning: Objective did not converge. You might want to increase the number of iterations. Fitting data with very small alpha may cause precision problems.\n",
      "  ConvergenceWarning)\n",
      "/Users/admin/workspace/2018-mcm-kealyd2/envs/py3training/lib/python3.6/site-packages/sklearn/linear_model/coordinate_descent.py:491: ConvergenceWarning: Objective did not converge. You might want to increase the number of iterations. Fitting data with very small alpha may cause precision problems.\n",
      "  ConvergenceWarning)\n",
      "/Users/admin/workspace/2018-mcm-kealyd2/envs/py3training/lib/python3.6/site-packages/sklearn/linear_model/coordinate_descent.py:491: ConvergenceWarning: Objective did not converge. You might want to increase the number of iterations. Fitting data with very small alpha may cause precision problems.\n",
      "  ConvergenceWarning)\n",
      "/Users/admin/workspace/2018-mcm-kealyd2/envs/py3training/lib/python3.6/site-packages/sklearn/linear_model/coordinate_descent.py:491: ConvergenceWarning: Objective did not converge. You might want to increase the number of iterations. Fitting data with very small alpha may cause precision problems.\n",
      "  ConvergenceWarning)\n",
      "/Users/admin/workspace/2018-mcm-kealyd2/envs/py3training/lib/python3.6/site-packages/sklearn/linear_model/coordinate_descent.py:491: ConvergenceWarning: Objective did not converge. You might want to increase the number of iterations. Fitting data with very small alpha may cause precision problems.\n",
      "  ConvergenceWarning)\n",
      "/Users/admin/workspace/2018-mcm-kealyd2/envs/py3training/lib/python3.6/site-packages/sklearn/linear_model/coordinate_descent.py:491: ConvergenceWarning: Objective did not converge. You might want to increase the number of iterations. Fitting data with very small alpha may cause precision problems.\n",
      "  ConvergenceWarning)\n",
      "/Users/admin/workspace/2018-mcm-kealyd2/envs/py3training/lib/python3.6/site-packages/sklearn/linear_model/coordinate_descent.py:491: ConvergenceWarning: Objective did not converge. You might want to increase the number of iterations. Fitting data with very small alpha may cause precision problems.\n",
      "  ConvergenceWarning)\n",
      "/Users/admin/workspace/2018-mcm-kealyd2/envs/py3training/lib/python3.6/site-packages/sklearn/linear_model/coordinate_descent.py:491: ConvergenceWarning: Objective did not converge. You might want to increase the number of iterations. Fitting data with very small alpha may cause precision problems.\n",
      "  ConvergenceWarning)\n",
      "/Users/admin/workspace/2018-mcm-kealyd2/envs/py3training/lib/python3.6/site-packages/sklearn/linear_model/coordinate_descent.py:491: ConvergenceWarning: Objective did not converge. You might want to increase the number of iterations. Fitting data with very small alpha may cause precision problems.\n",
      "  ConvergenceWarning)\n",
      "/Users/admin/workspace/2018-mcm-kealyd2/envs/py3training/lib/python3.6/site-packages/sklearn/linear_model/coordinate_descent.py:491: ConvergenceWarning: Objective did not converge. You might want to increase the number of iterations. Fitting data with very small alpha may cause precision problems.\n",
      "  ConvergenceWarning)\n",
      "/Users/admin/workspace/2018-mcm-kealyd2/envs/py3training/lib/python3.6/site-packages/sklearn/linear_model/coordinate_descent.py:491: ConvergenceWarning: Objective did not converge. You might want to increase the number of iterations. Fitting data with very small alpha may cause precision problems.\n",
      "  ConvergenceWarning)\n",
      "/Users/admin/workspace/2018-mcm-kealyd2/envs/py3training/lib/python3.6/site-packages/sklearn/linear_model/coordinate_descent.py:491: ConvergenceWarning: Objective did not converge. You might want to increase the number of iterations. Fitting data with very small alpha may cause precision problems.\n",
      "  ConvergenceWarning)\n",
      "/Users/admin/workspace/2018-mcm-kealyd2/envs/py3training/lib/python3.6/site-packages/sklearn/linear_model/coordinate_descent.py:491: ConvergenceWarning: Objective did not converge. You might want to increase the number of iterations. Fitting data with very small alpha may cause precision problems.\n",
      "  ConvergenceWarning)\n",
      "/Users/admin/workspace/2018-mcm-kealyd2/envs/py3training/lib/python3.6/site-packages/sklearn/linear_model/coordinate_descent.py:491: ConvergenceWarning: Objective did not converge. You might want to increase the number of iterations. Fitting data with very small alpha may cause precision problems.\n",
      "  ConvergenceWarning)\n",
      "/Users/admin/workspace/2018-mcm-kealyd2/envs/py3training/lib/python3.6/site-packages/sklearn/linear_model/coordinate_descent.py:491: ConvergenceWarning: Objective did not converge. You might want to increase the number of iterations. Fitting data with very small alpha may cause precision problems.\n",
      "  ConvergenceWarning)\n",
      "/Users/admin/workspace/2018-mcm-kealyd2/envs/py3training/lib/python3.6/site-packages/sklearn/linear_model/coordinate_descent.py:491: ConvergenceWarning: Objective did not converge. You might want to increase the number of iterations. Fitting data with very small alpha may cause precision problems.\n",
      "  ConvergenceWarning)\n",
      "/Users/admin/workspace/2018-mcm-kealyd2/envs/py3training/lib/python3.6/site-packages/sklearn/linear_model/coordinate_descent.py:491: ConvergenceWarning: Objective did not converge. You might want to increase the number of iterations. Fitting data with very small alpha may cause precision problems.\n",
      "  ConvergenceWarning)\n",
      "/Users/admin/workspace/2018-mcm-kealyd2/envs/py3training/lib/python3.6/site-packages/sklearn/linear_model/coordinate_descent.py:491: ConvergenceWarning: Objective did not converge. You might want to increase the number of iterations. Fitting data with very small alpha may cause precision problems.\n",
      "  ConvergenceWarning)\n",
      "/Users/admin/workspace/2018-mcm-kealyd2/envs/py3training/lib/python3.6/site-packages/sklearn/linear_model/coordinate_descent.py:491: ConvergenceWarning: Objective did not converge. You might want to increase the number of iterations. Fitting data with very small alpha may cause precision problems.\n",
      "  ConvergenceWarning)\n",
      "/Users/admin/workspace/2018-mcm-kealyd2/envs/py3training/lib/python3.6/site-packages/sklearn/linear_model/coordinate_descent.py:491: ConvergenceWarning: Objective did not converge. You might want to increase the number of iterations. Fitting data with very small alpha may cause precision problems.\n",
      "  ConvergenceWarning)\n",
      "/Users/admin/workspace/2018-mcm-kealyd2/envs/py3training/lib/python3.6/site-packages/sklearn/linear_model/coordinate_descent.py:491: ConvergenceWarning: Objective did not converge. You might want to increase the number of iterations. Fitting data with very small alpha may cause precision problems.\n",
      "  ConvergenceWarning)\n",
      "/Users/admin/workspace/2018-mcm-kealyd2/envs/py3training/lib/python3.6/site-packages/sklearn/linear_model/coordinate_descent.py:491: ConvergenceWarning: Objective did not converge. You might want to increase the number of iterations. Fitting data with very small alpha may cause precision problems.\n",
      "  ConvergenceWarning)\n"
     ]
    },
    {
     "name": "stderr",
     "output_type": "stream",
     "text": [
      "/Users/admin/workspace/2018-mcm-kealyd2/envs/py3training/lib/python3.6/site-packages/sklearn/linear_model/coordinate_descent.py:491: ConvergenceWarning: Objective did not converge. You might want to increase the number of iterations. Fitting data with very small alpha may cause precision problems.\n",
      "  ConvergenceWarning)\n",
      "/Users/admin/workspace/2018-mcm-kealyd2/envs/py3training/lib/python3.6/site-packages/sklearn/linear_model/coordinate_descent.py:491: ConvergenceWarning: Objective did not converge. You might want to increase the number of iterations. Fitting data with very small alpha may cause precision problems.\n",
      "  ConvergenceWarning)\n",
      "/Users/admin/workspace/2018-mcm-kealyd2/envs/py3training/lib/python3.6/site-packages/sklearn/linear_model/coordinate_descent.py:491: ConvergenceWarning: Objective did not converge. You might want to increase the number of iterations. Fitting data with very small alpha may cause precision problems.\n",
      "  ConvergenceWarning)\n",
      "/Users/admin/workspace/2018-mcm-kealyd2/envs/py3training/lib/python3.6/site-packages/sklearn/linear_model/coordinate_descent.py:491: ConvergenceWarning: Objective did not converge. You might want to increase the number of iterations. Fitting data with very small alpha may cause precision problems.\n",
      "  ConvergenceWarning)\n",
      "/Users/admin/workspace/2018-mcm-kealyd2/envs/py3training/lib/python3.6/site-packages/sklearn/linear_model/coordinate_descent.py:491: ConvergenceWarning: Objective did not converge. You might want to increase the number of iterations. Fitting data with very small alpha may cause precision problems.\n",
      "  ConvergenceWarning)\n",
      "/Users/admin/workspace/2018-mcm-kealyd2/envs/py3training/lib/python3.6/site-packages/sklearn/linear_model/coordinate_descent.py:491: ConvergenceWarning: Objective did not converge. You might want to increase the number of iterations. Fitting data with very small alpha may cause precision problems.\n",
      "  ConvergenceWarning)\n",
      "/Users/admin/workspace/2018-mcm-kealyd2/envs/py3training/lib/python3.6/site-packages/sklearn/linear_model/coordinate_descent.py:491: ConvergenceWarning: Objective did not converge. You might want to increase the number of iterations. Fitting data with very small alpha may cause precision problems.\n",
      "  ConvergenceWarning)\n",
      "/Users/admin/workspace/2018-mcm-kealyd2/envs/py3training/lib/python3.6/site-packages/sklearn/linear_model/coordinate_descent.py:491: ConvergenceWarning: Objective did not converge. You might want to increase the number of iterations. Fitting data with very small alpha may cause precision problems.\n",
      "  ConvergenceWarning)\n",
      "/Users/admin/workspace/2018-mcm-kealyd2/envs/py3training/lib/python3.6/site-packages/sklearn/linear_model/coordinate_descent.py:491: ConvergenceWarning: Objective did not converge. You might want to increase the number of iterations. Fitting data with very small alpha may cause precision problems.\n",
      "  ConvergenceWarning)\n",
      "/Users/admin/workspace/2018-mcm-kealyd2/envs/py3training/lib/python3.6/site-packages/sklearn/linear_model/coordinate_descent.py:491: ConvergenceWarning: Objective did not converge. You might want to increase the number of iterations. Fitting data with very small alpha may cause precision problems.\n",
      "  ConvergenceWarning)\n",
      "/Users/admin/workspace/2018-mcm-kealyd2/envs/py3training/lib/python3.6/site-packages/sklearn/linear_model/coordinate_descent.py:491: ConvergenceWarning: Objective did not converge. You might want to increase the number of iterations. Fitting data with very small alpha may cause precision problems.\n",
      "  ConvergenceWarning)\n",
      "/Users/admin/workspace/2018-mcm-kealyd2/envs/py3training/lib/python3.6/site-packages/sklearn/linear_model/coordinate_descent.py:491: ConvergenceWarning: Objective did not converge. You might want to increase the number of iterations. Fitting data with very small alpha may cause precision problems.\n",
      "  ConvergenceWarning)\n",
      "/Users/admin/workspace/2018-mcm-kealyd2/envs/py3training/lib/python3.6/site-packages/sklearn/linear_model/coordinate_descent.py:491: ConvergenceWarning: Objective did not converge. You might want to increase the number of iterations. Fitting data with very small alpha may cause precision problems.\n",
      "  ConvergenceWarning)\n",
      "/Users/admin/workspace/2018-mcm-kealyd2/envs/py3training/lib/python3.6/site-packages/sklearn/linear_model/coordinate_descent.py:491: ConvergenceWarning: Objective did not converge. You might want to increase the number of iterations. Fitting data with very small alpha may cause precision problems.\n",
      "  ConvergenceWarning)\n",
      "/Users/admin/workspace/2018-mcm-kealyd2/envs/py3training/lib/python3.6/site-packages/sklearn/linear_model/coordinate_descent.py:491: ConvergenceWarning: Objective did not converge. You might want to increase the number of iterations. Fitting data with very small alpha may cause precision problems.\n",
      "  ConvergenceWarning)\n",
      "/Users/admin/workspace/2018-mcm-kealyd2/envs/py3training/lib/python3.6/site-packages/sklearn/linear_model/coordinate_descent.py:491: ConvergenceWarning: Objective did not converge. You might want to increase the number of iterations. Fitting data with very small alpha may cause precision problems.\n",
      "  ConvergenceWarning)\n",
      "/Users/admin/workspace/2018-mcm-kealyd2/envs/py3training/lib/python3.6/site-packages/sklearn/linear_model/coordinate_descent.py:491: ConvergenceWarning: Objective did not converge. You might want to increase the number of iterations. Fitting data with very small alpha may cause precision problems.\n",
      "  ConvergenceWarning)\n",
      "/Users/admin/workspace/2018-mcm-kealyd2/envs/py3training/lib/python3.6/site-packages/sklearn/linear_model/coordinate_descent.py:491: ConvergenceWarning: Objective did not converge. You might want to increase the number of iterations. Fitting data with very small alpha may cause precision problems.\n",
      "  ConvergenceWarning)\n",
      "/Users/admin/workspace/2018-mcm-kealyd2/envs/py3training/lib/python3.6/site-packages/sklearn/linear_model/coordinate_descent.py:491: ConvergenceWarning: Objective did not converge. You might want to increase the number of iterations. Fitting data with very small alpha may cause precision problems.\n",
      "  ConvergenceWarning)\n",
      "/Users/admin/workspace/2018-mcm-kealyd2/envs/py3training/lib/python3.6/site-packages/sklearn/linear_model/coordinate_descent.py:491: ConvergenceWarning: Objective did not converge. You might want to increase the number of iterations. Fitting data with very small alpha may cause precision problems.\n",
      "  ConvergenceWarning)\n",
      "/Users/admin/workspace/2018-mcm-kealyd2/envs/py3training/lib/python3.6/site-packages/sklearn/linear_model/coordinate_descent.py:491: ConvergenceWarning: Objective did not converge. You might want to increase the number of iterations. Fitting data with very small alpha may cause precision problems.\n",
      "  ConvergenceWarning)\n",
      "/Users/admin/workspace/2018-mcm-kealyd2/envs/py3training/lib/python3.6/site-packages/sklearn/linear_model/coordinate_descent.py:491: ConvergenceWarning: Objective did not converge. You might want to increase the number of iterations. Fitting data with very small alpha may cause precision problems.\n",
      "  ConvergenceWarning)\n",
      "/Users/admin/workspace/2018-mcm-kealyd2/envs/py3training/lib/python3.6/site-packages/sklearn/linear_model/coordinate_descent.py:491: ConvergenceWarning: Objective did not converge. You might want to increase the number of iterations. Fitting data with very small alpha may cause precision problems.\n",
      "  ConvergenceWarning)\n",
      "/Users/admin/workspace/2018-mcm-kealyd2/envs/py3training/lib/python3.6/site-packages/sklearn/linear_model/coordinate_descent.py:491: ConvergenceWarning: Objective did not converge. You might want to increase the number of iterations. Fitting data with very small alpha may cause precision problems.\n",
      "  ConvergenceWarning)\n",
      "/Users/admin/workspace/2018-mcm-kealyd2/envs/py3training/lib/python3.6/site-packages/sklearn/linear_model/coordinate_descent.py:491: ConvergenceWarning: Objective did not converge. You might want to increase the number of iterations. Fitting data with very small alpha may cause precision problems.\n",
      "  ConvergenceWarning)\n",
      "/Users/admin/workspace/2018-mcm-kealyd2/envs/py3training/lib/python3.6/site-packages/sklearn/linear_model/coordinate_descent.py:491: ConvergenceWarning: Objective did not converge. You might want to increase the number of iterations. Fitting data with very small alpha may cause precision problems.\n",
      "  ConvergenceWarning)\n"
     ]
    },
    {
     "name": "stderr",
     "output_type": "stream",
     "text": [
      "/Users/admin/workspace/2018-mcm-kealyd2/envs/py3training/lib/python3.6/site-packages/sklearn/linear_model/coordinate_descent.py:491: ConvergenceWarning: Objective did not converge. You might want to increase the number of iterations. Fitting data with very small alpha may cause precision problems.\n",
      "  ConvergenceWarning)\n",
      "/Users/admin/workspace/2018-mcm-kealyd2/envs/py3training/lib/python3.6/site-packages/sklearn/linear_model/coordinate_descent.py:491: ConvergenceWarning: Objective did not converge. You might want to increase the number of iterations. Fitting data with very small alpha may cause precision problems.\n",
      "  ConvergenceWarning)\n",
      "/Users/admin/workspace/2018-mcm-kealyd2/envs/py3training/lib/python3.6/site-packages/sklearn/linear_model/coordinate_descent.py:491: ConvergenceWarning: Objective did not converge. You might want to increase the number of iterations. Fitting data with very small alpha may cause precision problems.\n",
      "  ConvergenceWarning)\n",
      "/Users/admin/workspace/2018-mcm-kealyd2/envs/py3training/lib/python3.6/site-packages/sklearn/linear_model/coordinate_descent.py:491: ConvergenceWarning: Objective did not converge. You might want to increase the number of iterations. Fitting data with very small alpha may cause precision problems.\n",
      "  ConvergenceWarning)\n",
      "/Users/admin/workspace/2018-mcm-kealyd2/envs/py3training/lib/python3.6/site-packages/sklearn/linear_model/coordinate_descent.py:491: ConvergenceWarning: Objective did not converge. You might want to increase the number of iterations. Fitting data with very small alpha may cause precision problems.\n",
      "  ConvergenceWarning)\n",
      "/Users/admin/workspace/2018-mcm-kealyd2/envs/py3training/lib/python3.6/site-packages/sklearn/linear_model/coordinate_descent.py:491: ConvergenceWarning: Objective did not converge. You might want to increase the number of iterations. Fitting data with very small alpha may cause precision problems.\n",
      "  ConvergenceWarning)\n",
      "/Users/admin/workspace/2018-mcm-kealyd2/envs/py3training/lib/python3.6/site-packages/sklearn/linear_model/coordinate_descent.py:491: ConvergenceWarning: Objective did not converge. You might want to increase the number of iterations. Fitting data with very small alpha may cause precision problems.\n",
      "  ConvergenceWarning)\n",
      "/Users/admin/workspace/2018-mcm-kealyd2/envs/py3training/lib/python3.6/site-packages/sklearn/linear_model/coordinate_descent.py:491: ConvergenceWarning: Objective did not converge. You might want to increase the number of iterations. Fitting data with very small alpha may cause precision problems.\n",
      "  ConvergenceWarning)\n",
      "/Users/admin/workspace/2018-mcm-kealyd2/envs/py3training/lib/python3.6/site-packages/sklearn/linear_model/coordinate_descent.py:491: ConvergenceWarning: Objective did not converge. You might want to increase the number of iterations. Fitting data with very small alpha may cause precision problems.\n",
      "  ConvergenceWarning)\n",
      "/Users/admin/workspace/2018-mcm-kealyd2/envs/py3training/lib/python3.6/site-packages/sklearn/linear_model/coordinate_descent.py:491: ConvergenceWarning: Objective did not converge. You might want to increase the number of iterations. Fitting data with very small alpha may cause precision problems.\n",
      "  ConvergenceWarning)\n",
      "/Users/admin/workspace/2018-mcm-kealyd2/envs/py3training/lib/python3.6/site-packages/sklearn/linear_model/coordinate_descent.py:491: ConvergenceWarning: Objective did not converge. You might want to increase the number of iterations. Fitting data with very small alpha may cause precision problems.\n",
      "  ConvergenceWarning)\n",
      "/Users/admin/workspace/2018-mcm-kealyd2/envs/py3training/lib/python3.6/site-packages/sklearn/linear_model/coordinate_descent.py:491: ConvergenceWarning: Objective did not converge. You might want to increase the number of iterations. Fitting data with very small alpha may cause precision problems.\n",
      "  ConvergenceWarning)\n",
      "/Users/admin/workspace/2018-mcm-kealyd2/envs/py3training/lib/python3.6/site-packages/sklearn/linear_model/coordinate_descent.py:491: ConvergenceWarning: Objective did not converge. You might want to increase the number of iterations. Fitting data with very small alpha may cause precision problems.\n",
      "  ConvergenceWarning)\n",
      "/Users/admin/workspace/2018-mcm-kealyd2/envs/py3training/lib/python3.6/site-packages/sklearn/linear_model/coordinate_descent.py:491: ConvergenceWarning: Objective did not converge. You might want to increase the number of iterations. Fitting data with very small alpha may cause precision problems.\n",
      "  ConvergenceWarning)\n",
      "/Users/admin/workspace/2018-mcm-kealyd2/envs/py3training/lib/python3.6/site-packages/sklearn/linear_model/coordinate_descent.py:491: ConvergenceWarning: Objective did not converge. You might want to increase the number of iterations. Fitting data with very small alpha may cause precision problems.\n",
      "  ConvergenceWarning)\n",
      "/Users/admin/workspace/2018-mcm-kealyd2/envs/py3training/lib/python3.6/site-packages/sklearn/linear_model/coordinate_descent.py:491: ConvergenceWarning: Objective did not converge. You might want to increase the number of iterations. Fitting data with very small alpha may cause precision problems.\n",
      "  ConvergenceWarning)\n",
      "/Users/admin/workspace/2018-mcm-kealyd2/envs/py3training/lib/python3.6/site-packages/sklearn/linear_model/coordinate_descent.py:491: ConvergenceWarning: Objective did not converge. You might want to increase the number of iterations. Fitting data with very small alpha may cause precision problems.\n",
      "  ConvergenceWarning)\n",
      "/Users/admin/workspace/2018-mcm-kealyd2/envs/py3training/lib/python3.6/site-packages/sklearn/linear_model/coordinate_descent.py:491: ConvergenceWarning: Objective did not converge. You might want to increase the number of iterations. Fitting data with very small alpha may cause precision problems.\n",
      "  ConvergenceWarning)\n",
      "/Users/admin/workspace/2018-mcm-kealyd2/envs/py3training/lib/python3.6/site-packages/sklearn/linear_model/coordinate_descent.py:491: ConvergenceWarning: Objective did not converge. You might want to increase the number of iterations. Fitting data with very small alpha may cause precision problems.\n",
      "  ConvergenceWarning)\n",
      "/Users/admin/workspace/2018-mcm-kealyd2/envs/py3training/lib/python3.6/site-packages/sklearn/linear_model/coordinate_descent.py:491: ConvergenceWarning: Objective did not converge. You might want to increase the number of iterations. Fitting data with very small alpha may cause precision problems.\n",
      "  ConvergenceWarning)\n",
      "/Users/admin/workspace/2018-mcm-kealyd2/envs/py3training/lib/python3.6/site-packages/sklearn/linear_model/coordinate_descent.py:491: ConvergenceWarning: Objective did not converge. You might want to increase the number of iterations. Fitting data with very small alpha may cause precision problems.\n",
      "  ConvergenceWarning)\n",
      "/Users/admin/workspace/2018-mcm-kealyd2/envs/py3training/lib/python3.6/site-packages/sklearn/linear_model/coordinate_descent.py:491: ConvergenceWarning: Objective did not converge. You might want to increase the number of iterations. Fitting data with very small alpha may cause precision problems.\n",
      "  ConvergenceWarning)\n",
      "/Users/admin/workspace/2018-mcm-kealyd2/envs/py3training/lib/python3.6/site-packages/sklearn/linear_model/coordinate_descent.py:491: ConvergenceWarning: Objective did not converge. You might want to increase the number of iterations. Fitting data with very small alpha may cause precision problems.\n",
      "  ConvergenceWarning)\n",
      "/Users/admin/workspace/2018-mcm-kealyd2/envs/py3training/lib/python3.6/site-packages/sklearn/linear_model/coordinate_descent.py:491: ConvergenceWarning: Objective did not converge. You might want to increase the number of iterations. Fitting data with very small alpha may cause precision problems.\n",
      "  ConvergenceWarning)\n",
      "/Users/admin/workspace/2018-mcm-kealyd2/envs/py3training/lib/python3.6/site-packages/sklearn/linear_model/coordinate_descent.py:491: ConvergenceWarning: Objective did not converge. You might want to increase the number of iterations. Fitting data with very small alpha may cause precision problems.\n",
      "  ConvergenceWarning)\n",
      "/Users/admin/workspace/2018-mcm-kealyd2/envs/py3training/lib/python3.6/site-packages/sklearn/linear_model/coordinate_descent.py:491: ConvergenceWarning: Objective did not converge. You might want to increase the number of iterations. Fitting data with very small alpha may cause precision problems.\n",
      "  ConvergenceWarning)\n"
     ]
    },
    {
     "name": "stderr",
     "output_type": "stream",
     "text": [
      "/Users/admin/workspace/2018-mcm-kealyd2/envs/py3training/lib/python3.6/site-packages/sklearn/linear_model/coordinate_descent.py:491: ConvergenceWarning: Objective did not converge. You might want to increase the number of iterations. Fitting data with very small alpha may cause precision problems.\n",
      "  ConvergenceWarning)\n",
      "/Users/admin/workspace/2018-mcm-kealyd2/envs/py3training/lib/python3.6/site-packages/sklearn/linear_model/coordinate_descent.py:491: ConvergenceWarning: Objective did not converge. You might want to increase the number of iterations. Fitting data with very small alpha may cause precision problems.\n",
      "  ConvergenceWarning)\n",
      "/Users/admin/workspace/2018-mcm-kealyd2/envs/py3training/lib/python3.6/site-packages/sklearn/linear_model/coordinate_descent.py:491: ConvergenceWarning: Objective did not converge. You might want to increase the number of iterations. Fitting data with very small alpha may cause precision problems.\n",
      "  ConvergenceWarning)\n",
      "/Users/admin/workspace/2018-mcm-kealyd2/envs/py3training/lib/python3.6/site-packages/sklearn/linear_model/coordinate_descent.py:491: ConvergenceWarning: Objective did not converge. You might want to increase the number of iterations. Fitting data with very small alpha may cause precision problems.\n",
      "  ConvergenceWarning)\n",
      "/Users/admin/workspace/2018-mcm-kealyd2/envs/py3training/lib/python3.6/site-packages/sklearn/linear_model/coordinate_descent.py:491: ConvergenceWarning: Objective did not converge. You might want to increase the number of iterations. Fitting data with very small alpha may cause precision problems.\n",
      "  ConvergenceWarning)\n",
      "/Users/admin/workspace/2018-mcm-kealyd2/envs/py3training/lib/python3.6/site-packages/sklearn/linear_model/coordinate_descent.py:491: ConvergenceWarning: Objective did not converge. You might want to increase the number of iterations. Fitting data with very small alpha may cause precision problems.\n",
      "  ConvergenceWarning)\n",
      "/Users/admin/workspace/2018-mcm-kealyd2/envs/py3training/lib/python3.6/site-packages/sklearn/linear_model/coordinate_descent.py:491: ConvergenceWarning: Objective did not converge. You might want to increase the number of iterations. Fitting data with very small alpha may cause precision problems.\n",
      "  ConvergenceWarning)\n",
      "/Users/admin/workspace/2018-mcm-kealyd2/envs/py3training/lib/python3.6/site-packages/sklearn/linear_model/coordinate_descent.py:491: ConvergenceWarning: Objective did not converge. You might want to increase the number of iterations. Fitting data with very small alpha may cause precision problems.\n",
      "  ConvergenceWarning)\n",
      "/Users/admin/workspace/2018-mcm-kealyd2/envs/py3training/lib/python3.6/site-packages/sklearn/linear_model/coordinate_descent.py:491: ConvergenceWarning: Objective did not converge. You might want to increase the number of iterations. Fitting data with very small alpha may cause precision problems.\n",
      "  ConvergenceWarning)\n",
      "/Users/admin/workspace/2018-mcm-kealyd2/envs/py3training/lib/python3.6/site-packages/sklearn/linear_model/coordinate_descent.py:491: ConvergenceWarning: Objective did not converge. You might want to increase the number of iterations. Fitting data with very small alpha may cause precision problems.\n",
      "  ConvergenceWarning)\n",
      "/Users/admin/workspace/2018-mcm-kealyd2/envs/py3training/lib/python3.6/site-packages/sklearn/linear_model/coordinate_descent.py:491: ConvergenceWarning: Objective did not converge. You might want to increase the number of iterations. Fitting data with very small alpha may cause precision problems.\n",
      "  ConvergenceWarning)\n",
      "/Users/admin/workspace/2018-mcm-kealyd2/envs/py3training/lib/python3.6/site-packages/sklearn/linear_model/coordinate_descent.py:491: ConvergenceWarning: Objective did not converge. You might want to increase the number of iterations. Fitting data with very small alpha may cause precision problems.\n",
      "  ConvergenceWarning)\n",
      "/Users/admin/workspace/2018-mcm-kealyd2/envs/py3training/lib/python3.6/site-packages/sklearn/linear_model/coordinate_descent.py:491: ConvergenceWarning: Objective did not converge. You might want to increase the number of iterations. Fitting data with very small alpha may cause precision problems.\n",
      "  ConvergenceWarning)\n",
      "/Users/admin/workspace/2018-mcm-kealyd2/envs/py3training/lib/python3.6/site-packages/sklearn/linear_model/coordinate_descent.py:491: ConvergenceWarning: Objective did not converge. You might want to increase the number of iterations. Fitting data with very small alpha may cause precision problems.\n",
      "  ConvergenceWarning)\n",
      "/Users/admin/workspace/2018-mcm-kealyd2/envs/py3training/lib/python3.6/site-packages/sklearn/linear_model/coordinate_descent.py:491: ConvergenceWarning: Objective did not converge. You might want to increase the number of iterations. Fitting data with very small alpha may cause precision problems.\n",
      "  ConvergenceWarning)\n",
      "/Users/admin/workspace/2018-mcm-kealyd2/envs/py3training/lib/python3.6/site-packages/sklearn/linear_model/coordinate_descent.py:491: ConvergenceWarning: Objective did not converge. You might want to increase the number of iterations. Fitting data with very small alpha may cause precision problems.\n",
      "  ConvergenceWarning)\n",
      "/Users/admin/workspace/2018-mcm-kealyd2/envs/py3training/lib/python3.6/site-packages/sklearn/linear_model/coordinate_descent.py:491: ConvergenceWarning: Objective did not converge. You might want to increase the number of iterations. Fitting data with very small alpha may cause precision problems.\n",
      "  ConvergenceWarning)\n",
      "/Users/admin/workspace/2018-mcm-kealyd2/envs/py3training/lib/python3.6/site-packages/sklearn/linear_model/coordinate_descent.py:491: ConvergenceWarning: Objective did not converge. You might want to increase the number of iterations. Fitting data with very small alpha may cause precision problems.\n",
      "  ConvergenceWarning)\n",
      "/Users/admin/workspace/2018-mcm-kealyd2/envs/py3training/lib/python3.6/site-packages/sklearn/linear_model/coordinate_descent.py:491: ConvergenceWarning: Objective did not converge. You might want to increase the number of iterations. Fitting data with very small alpha may cause precision problems.\n",
      "  ConvergenceWarning)\n",
      "/Users/admin/workspace/2018-mcm-kealyd2/envs/py3training/lib/python3.6/site-packages/sklearn/linear_model/coordinate_descent.py:491: ConvergenceWarning: Objective did not converge. You might want to increase the number of iterations. Fitting data with very small alpha may cause precision problems.\n",
      "  ConvergenceWarning)\n",
      "/Users/admin/workspace/2018-mcm-kealyd2/envs/py3training/lib/python3.6/site-packages/sklearn/linear_model/coordinate_descent.py:491: ConvergenceWarning: Objective did not converge. You might want to increase the number of iterations. Fitting data with very small alpha may cause precision problems.\n",
      "  ConvergenceWarning)\n",
      "/Users/admin/workspace/2018-mcm-kealyd2/envs/py3training/lib/python3.6/site-packages/sklearn/linear_model/coordinate_descent.py:491: ConvergenceWarning: Objective did not converge. You might want to increase the number of iterations. Fitting data with very small alpha may cause precision problems.\n",
      "  ConvergenceWarning)\n",
      "/Users/admin/workspace/2018-mcm-kealyd2/envs/py3training/lib/python3.6/site-packages/sklearn/linear_model/coordinate_descent.py:491: ConvergenceWarning: Objective did not converge. You might want to increase the number of iterations. Fitting data with very small alpha may cause precision problems.\n",
      "  ConvergenceWarning)\n",
      "/Users/admin/workspace/2018-mcm-kealyd2/envs/py3training/lib/python3.6/site-packages/sklearn/linear_model/coordinate_descent.py:491: ConvergenceWarning: Objective did not converge. You might want to increase the number of iterations. Fitting data with very small alpha may cause precision problems.\n",
      "  ConvergenceWarning)\n",
      "/Users/admin/workspace/2018-mcm-kealyd2/envs/py3training/lib/python3.6/site-packages/sklearn/linear_model/coordinate_descent.py:491: ConvergenceWarning: Objective did not converge. You might want to increase the number of iterations. Fitting data with very small alpha may cause precision problems.\n",
      "  ConvergenceWarning)\n",
      "/Users/admin/workspace/2018-mcm-kealyd2/envs/py3training/lib/python3.6/site-packages/sklearn/linear_model/coordinate_descent.py:491: ConvergenceWarning: Objective did not converge. You might want to increase the number of iterations. Fitting data with very small alpha may cause precision problems.\n",
      "  ConvergenceWarning)\n"
     ]
    },
    {
     "name": "stderr",
     "output_type": "stream",
     "text": [
      "/Users/admin/workspace/2018-mcm-kealyd2/envs/py3training/lib/python3.6/site-packages/sklearn/linear_model/coordinate_descent.py:491: ConvergenceWarning: Objective did not converge. You might want to increase the number of iterations. Fitting data with very small alpha may cause precision problems.\n",
      "  ConvergenceWarning)\n",
      "/Users/admin/workspace/2018-mcm-kealyd2/envs/py3training/lib/python3.6/site-packages/sklearn/linear_model/coordinate_descent.py:491: ConvergenceWarning: Objective did not converge. You might want to increase the number of iterations. Fitting data with very small alpha may cause precision problems.\n",
      "  ConvergenceWarning)\n",
      "/Users/admin/workspace/2018-mcm-kealyd2/envs/py3training/lib/python3.6/site-packages/sklearn/linear_model/coordinate_descent.py:491: ConvergenceWarning: Objective did not converge. You might want to increase the number of iterations. Fitting data with very small alpha may cause precision problems.\n",
      "  ConvergenceWarning)\n",
      "/Users/admin/workspace/2018-mcm-kealyd2/envs/py3training/lib/python3.6/site-packages/sklearn/linear_model/coordinate_descent.py:491: ConvergenceWarning: Objective did not converge. You might want to increase the number of iterations. Fitting data with very small alpha may cause precision problems.\n",
      "  ConvergenceWarning)\n",
      "/Users/admin/workspace/2018-mcm-kealyd2/envs/py3training/lib/python3.6/site-packages/sklearn/linear_model/coordinate_descent.py:491: ConvergenceWarning: Objective did not converge. You might want to increase the number of iterations. Fitting data with very small alpha may cause precision problems.\n",
      "  ConvergenceWarning)\n",
      "/Users/admin/workspace/2018-mcm-kealyd2/envs/py3training/lib/python3.6/site-packages/sklearn/linear_model/coordinate_descent.py:491: ConvergenceWarning: Objective did not converge. You might want to increase the number of iterations. Fitting data with very small alpha may cause precision problems.\n",
      "  ConvergenceWarning)\n",
      "/Users/admin/workspace/2018-mcm-kealyd2/envs/py3training/lib/python3.6/site-packages/sklearn/linear_model/coordinate_descent.py:491: ConvergenceWarning: Objective did not converge. You might want to increase the number of iterations. Fitting data with very small alpha may cause precision problems.\n",
      "  ConvergenceWarning)\n",
      "/Users/admin/workspace/2018-mcm-kealyd2/envs/py3training/lib/python3.6/site-packages/sklearn/linear_model/coordinate_descent.py:491: ConvergenceWarning: Objective did not converge. You might want to increase the number of iterations. Fitting data with very small alpha may cause precision problems.\n",
      "  ConvergenceWarning)\n",
      "/Users/admin/workspace/2018-mcm-kealyd2/envs/py3training/lib/python3.6/site-packages/sklearn/linear_model/coordinate_descent.py:491: ConvergenceWarning: Objective did not converge. You might want to increase the number of iterations. Fitting data with very small alpha may cause precision problems.\n",
      "  ConvergenceWarning)\n",
      "/Users/admin/workspace/2018-mcm-kealyd2/envs/py3training/lib/python3.6/site-packages/sklearn/linear_model/coordinate_descent.py:491: ConvergenceWarning: Objective did not converge. You might want to increase the number of iterations. Fitting data with very small alpha may cause precision problems.\n",
      "  ConvergenceWarning)\n",
      "/Users/admin/workspace/2018-mcm-kealyd2/envs/py3training/lib/python3.6/site-packages/sklearn/linear_model/coordinate_descent.py:491: ConvergenceWarning: Objective did not converge. You might want to increase the number of iterations. Fitting data with very small alpha may cause precision problems.\n",
      "  ConvergenceWarning)\n",
      "/Users/admin/workspace/2018-mcm-kealyd2/envs/py3training/lib/python3.6/site-packages/sklearn/linear_model/coordinate_descent.py:491: ConvergenceWarning: Objective did not converge. You might want to increase the number of iterations. Fitting data with very small alpha may cause precision problems.\n",
      "  ConvergenceWarning)\n",
      "/Users/admin/workspace/2018-mcm-kealyd2/envs/py3training/lib/python3.6/site-packages/sklearn/linear_model/coordinate_descent.py:491: ConvergenceWarning: Objective did not converge. You might want to increase the number of iterations. Fitting data with very small alpha may cause precision problems.\n",
      "  ConvergenceWarning)\n",
      "/Users/admin/workspace/2018-mcm-kealyd2/envs/py3training/lib/python3.6/site-packages/sklearn/linear_model/coordinate_descent.py:491: ConvergenceWarning: Objective did not converge. You might want to increase the number of iterations. Fitting data with very small alpha may cause precision problems.\n",
      "  ConvergenceWarning)\n",
      "/Users/admin/workspace/2018-mcm-kealyd2/envs/py3training/lib/python3.6/site-packages/sklearn/linear_model/coordinate_descent.py:491: ConvergenceWarning: Objective did not converge. You might want to increase the number of iterations. Fitting data with very small alpha may cause precision problems.\n",
      "  ConvergenceWarning)\n",
      "/Users/admin/workspace/2018-mcm-kealyd2/envs/py3training/lib/python3.6/site-packages/sklearn/linear_model/coordinate_descent.py:491: ConvergenceWarning: Objective did not converge. You might want to increase the number of iterations. Fitting data with very small alpha may cause precision problems.\n",
      "  ConvergenceWarning)\n",
      "/Users/admin/workspace/2018-mcm-kealyd2/envs/py3training/lib/python3.6/site-packages/sklearn/linear_model/coordinate_descent.py:491: ConvergenceWarning: Objective did not converge. You might want to increase the number of iterations. Fitting data with very small alpha may cause precision problems.\n",
      "  ConvergenceWarning)\n",
      "/Users/admin/workspace/2018-mcm-kealyd2/envs/py3training/lib/python3.6/site-packages/sklearn/linear_model/coordinate_descent.py:491: ConvergenceWarning: Objective did not converge. You might want to increase the number of iterations. Fitting data with very small alpha may cause precision problems.\n",
      "  ConvergenceWarning)\n",
      "/Users/admin/workspace/2018-mcm-kealyd2/envs/py3training/lib/python3.6/site-packages/sklearn/linear_model/coordinate_descent.py:491: ConvergenceWarning: Objective did not converge. You might want to increase the number of iterations. Fitting data with very small alpha may cause precision problems.\n",
      "  ConvergenceWarning)\n",
      "/Users/admin/workspace/2018-mcm-kealyd2/envs/py3training/lib/python3.6/site-packages/sklearn/linear_model/coordinate_descent.py:491: ConvergenceWarning: Objective did not converge. You might want to increase the number of iterations. Fitting data with very small alpha may cause precision problems.\n",
      "  ConvergenceWarning)\n",
      "/Users/admin/workspace/2018-mcm-kealyd2/envs/py3training/lib/python3.6/site-packages/sklearn/linear_model/coordinate_descent.py:491: ConvergenceWarning: Objective did not converge. You might want to increase the number of iterations. Fitting data with very small alpha may cause precision problems.\n",
      "  ConvergenceWarning)\n",
      "/Users/admin/workspace/2018-mcm-kealyd2/envs/py3training/lib/python3.6/site-packages/sklearn/linear_model/coordinate_descent.py:491: ConvergenceWarning: Objective did not converge. You might want to increase the number of iterations. Fitting data with very small alpha may cause precision problems.\n",
      "  ConvergenceWarning)\n",
      "/Users/admin/workspace/2018-mcm-kealyd2/envs/py3training/lib/python3.6/site-packages/sklearn/linear_model/coordinate_descent.py:491: ConvergenceWarning: Objective did not converge. You might want to increase the number of iterations. Fitting data with very small alpha may cause precision problems.\n",
      "  ConvergenceWarning)\n",
      "/Users/admin/workspace/2018-mcm-kealyd2/envs/py3training/lib/python3.6/site-packages/sklearn/linear_model/coordinate_descent.py:491: ConvergenceWarning: Objective did not converge. You might want to increase the number of iterations. Fitting data with very small alpha may cause precision problems.\n",
      "  ConvergenceWarning)\n",
      "/Users/admin/workspace/2018-mcm-kealyd2/envs/py3training/lib/python3.6/site-packages/sklearn/linear_model/coordinate_descent.py:491: ConvergenceWarning: Objective did not converge. You might want to increase the number of iterations. Fitting data with very small alpha may cause precision problems.\n",
      "  ConvergenceWarning)\n",
      "/Users/admin/workspace/2018-mcm-kealyd2/envs/py3training/lib/python3.6/site-packages/sklearn/linear_model/coordinate_descent.py:491: ConvergenceWarning: Objective did not converge. You might want to increase the number of iterations. Fitting data with very small alpha may cause precision problems.\n",
      "  ConvergenceWarning)\n"
     ]
    },
    {
     "name": "stderr",
     "output_type": "stream",
     "text": [
      "/Users/admin/workspace/2018-mcm-kealyd2/envs/py3training/lib/python3.6/site-packages/sklearn/linear_model/coordinate_descent.py:491: ConvergenceWarning: Objective did not converge. You might want to increase the number of iterations. Fitting data with very small alpha may cause precision problems.\n",
      "  ConvergenceWarning)\n",
      "/Users/admin/workspace/2018-mcm-kealyd2/envs/py3training/lib/python3.6/site-packages/sklearn/linear_model/coordinate_descent.py:491: ConvergenceWarning: Objective did not converge. You might want to increase the number of iterations. Fitting data with very small alpha may cause precision problems.\n",
      "  ConvergenceWarning)\n",
      "/Users/admin/workspace/2018-mcm-kealyd2/envs/py3training/lib/python3.6/site-packages/sklearn/linear_model/coordinate_descent.py:491: ConvergenceWarning: Objective did not converge. You might want to increase the number of iterations. Fitting data with very small alpha may cause precision problems.\n",
      "  ConvergenceWarning)\n",
      "/Users/admin/workspace/2018-mcm-kealyd2/envs/py3training/lib/python3.6/site-packages/sklearn/linear_model/coordinate_descent.py:491: ConvergenceWarning: Objective did not converge. You might want to increase the number of iterations. Fitting data with very small alpha may cause precision problems.\n",
      "  ConvergenceWarning)\n",
      "/Users/admin/workspace/2018-mcm-kealyd2/envs/py3training/lib/python3.6/site-packages/sklearn/linear_model/coordinate_descent.py:491: ConvergenceWarning: Objective did not converge. You might want to increase the number of iterations. Fitting data with very small alpha may cause precision problems.\n",
      "  ConvergenceWarning)\n",
      "/Users/admin/workspace/2018-mcm-kealyd2/envs/py3training/lib/python3.6/site-packages/sklearn/linear_model/coordinate_descent.py:491: ConvergenceWarning: Objective did not converge. You might want to increase the number of iterations. Fitting data with very small alpha may cause precision problems.\n",
      "  ConvergenceWarning)\n",
      "/Users/admin/workspace/2018-mcm-kealyd2/envs/py3training/lib/python3.6/site-packages/sklearn/linear_model/coordinate_descent.py:491: ConvergenceWarning: Objective did not converge. You might want to increase the number of iterations. Fitting data with very small alpha may cause precision problems.\n",
      "  ConvergenceWarning)\n",
      "/Users/admin/workspace/2018-mcm-kealyd2/envs/py3training/lib/python3.6/site-packages/sklearn/linear_model/coordinate_descent.py:491: ConvergenceWarning: Objective did not converge. You might want to increase the number of iterations. Fitting data with very small alpha may cause precision problems.\n",
      "  ConvergenceWarning)\n",
      "/Users/admin/workspace/2018-mcm-kealyd2/envs/py3training/lib/python3.6/site-packages/sklearn/linear_model/coordinate_descent.py:491: ConvergenceWarning: Objective did not converge. You might want to increase the number of iterations. Fitting data with very small alpha may cause precision problems.\n",
      "  ConvergenceWarning)\n",
      "/Users/admin/workspace/2018-mcm-kealyd2/envs/py3training/lib/python3.6/site-packages/sklearn/linear_model/coordinate_descent.py:491: ConvergenceWarning: Objective did not converge. You might want to increase the number of iterations. Fitting data with very small alpha may cause precision problems.\n",
      "  ConvergenceWarning)\n",
      "/Users/admin/workspace/2018-mcm-kealyd2/envs/py3training/lib/python3.6/site-packages/sklearn/linear_model/coordinate_descent.py:491: ConvergenceWarning: Objective did not converge. You might want to increase the number of iterations. Fitting data with very small alpha may cause precision problems.\n",
      "  ConvergenceWarning)\n",
      "/Users/admin/workspace/2018-mcm-kealyd2/envs/py3training/lib/python3.6/site-packages/sklearn/linear_model/coordinate_descent.py:491: ConvergenceWarning: Objective did not converge. You might want to increase the number of iterations. Fitting data with very small alpha may cause precision problems.\n",
      "  ConvergenceWarning)\n",
      "/Users/admin/workspace/2018-mcm-kealyd2/envs/py3training/lib/python3.6/site-packages/sklearn/linear_model/coordinate_descent.py:491: ConvergenceWarning: Objective did not converge. You might want to increase the number of iterations. Fitting data with very small alpha may cause precision problems.\n",
      "  ConvergenceWarning)\n",
      "/Users/admin/workspace/2018-mcm-kealyd2/envs/py3training/lib/python3.6/site-packages/sklearn/linear_model/coordinate_descent.py:491: ConvergenceWarning: Objective did not converge. You might want to increase the number of iterations. Fitting data with very small alpha may cause precision problems.\n",
      "  ConvergenceWarning)\n",
      "/Users/admin/workspace/2018-mcm-kealyd2/envs/py3training/lib/python3.6/site-packages/sklearn/linear_model/coordinate_descent.py:491: ConvergenceWarning: Objective did not converge. You might want to increase the number of iterations. Fitting data with very small alpha may cause precision problems.\n",
      "  ConvergenceWarning)\n",
      "/Users/admin/workspace/2018-mcm-kealyd2/envs/py3training/lib/python3.6/site-packages/sklearn/linear_model/coordinate_descent.py:491: ConvergenceWarning: Objective did not converge. You might want to increase the number of iterations. Fitting data with very small alpha may cause precision problems.\n",
      "  ConvergenceWarning)\n",
      "/Users/admin/workspace/2018-mcm-kealyd2/envs/py3training/lib/python3.6/site-packages/sklearn/linear_model/coordinate_descent.py:491: ConvergenceWarning: Objective did not converge. You might want to increase the number of iterations. Fitting data with very small alpha may cause precision problems.\n",
      "  ConvergenceWarning)\n",
      "/Users/admin/workspace/2018-mcm-kealyd2/envs/py3training/lib/python3.6/site-packages/sklearn/linear_model/coordinate_descent.py:491: ConvergenceWarning: Objective did not converge. You might want to increase the number of iterations. Fitting data with very small alpha may cause precision problems.\n",
      "  ConvergenceWarning)\n",
      "/Users/admin/workspace/2018-mcm-kealyd2/envs/py3training/lib/python3.6/site-packages/sklearn/linear_model/coordinate_descent.py:491: ConvergenceWarning: Objective did not converge. You might want to increase the number of iterations. Fitting data with very small alpha may cause precision problems.\n",
      "  ConvergenceWarning)\n",
      "/Users/admin/workspace/2018-mcm-kealyd2/envs/py3training/lib/python3.6/site-packages/sklearn/linear_model/coordinate_descent.py:491: ConvergenceWarning: Objective did not converge. You might want to increase the number of iterations. Fitting data with very small alpha may cause precision problems.\n",
      "  ConvergenceWarning)\n",
      "/Users/admin/workspace/2018-mcm-kealyd2/envs/py3training/lib/python3.6/site-packages/sklearn/linear_model/coordinate_descent.py:491: ConvergenceWarning: Objective did not converge. You might want to increase the number of iterations. Fitting data with very small alpha may cause precision problems.\n",
      "  ConvergenceWarning)\n",
      "/Users/admin/workspace/2018-mcm-kealyd2/envs/py3training/lib/python3.6/site-packages/sklearn/linear_model/coordinate_descent.py:491: ConvergenceWarning: Objective did not converge. You might want to increase the number of iterations. Fitting data with very small alpha may cause precision problems.\n",
      "  ConvergenceWarning)\n",
      "/Users/admin/workspace/2018-mcm-kealyd2/envs/py3training/lib/python3.6/site-packages/sklearn/linear_model/coordinate_descent.py:491: ConvergenceWarning: Objective did not converge. You might want to increase the number of iterations. Fitting data with very small alpha may cause precision problems.\n",
      "  ConvergenceWarning)\n",
      "/Users/admin/workspace/2018-mcm-kealyd2/envs/py3training/lib/python3.6/site-packages/sklearn/linear_model/coordinate_descent.py:491: ConvergenceWarning: Objective did not converge. You might want to increase the number of iterations. Fitting data with very small alpha may cause precision problems.\n",
      "  ConvergenceWarning)\n",
      "/Users/admin/workspace/2018-mcm-kealyd2/envs/py3training/lib/python3.6/site-packages/sklearn/linear_model/coordinate_descent.py:491: ConvergenceWarning: Objective did not converge. You might want to increase the number of iterations. Fitting data with very small alpha may cause precision problems.\n",
      "  ConvergenceWarning)\n",
      "/Users/admin/workspace/2018-mcm-kealyd2/envs/py3training/lib/python3.6/site-packages/sklearn/linear_model/coordinate_descent.py:491: ConvergenceWarning: Objective did not converge. You might want to increase the number of iterations. Fitting data with very small alpha may cause precision problems.\n",
      "  ConvergenceWarning)\n"
     ]
    },
    {
     "name": "stderr",
     "output_type": "stream",
     "text": [
      "/Users/admin/workspace/2018-mcm-kealyd2/envs/py3training/lib/python3.6/site-packages/sklearn/linear_model/coordinate_descent.py:491: ConvergenceWarning: Objective did not converge. You might want to increase the number of iterations. Fitting data with very small alpha may cause precision problems.\n",
      "  ConvergenceWarning)\n",
      "/Users/admin/workspace/2018-mcm-kealyd2/envs/py3training/lib/python3.6/site-packages/sklearn/linear_model/coordinate_descent.py:491: ConvergenceWarning: Objective did not converge. You might want to increase the number of iterations. Fitting data with very small alpha may cause precision problems.\n",
      "  ConvergenceWarning)\n",
      "/Users/admin/workspace/2018-mcm-kealyd2/envs/py3training/lib/python3.6/site-packages/sklearn/linear_model/coordinate_descent.py:491: ConvergenceWarning: Objective did not converge. You might want to increase the number of iterations. Fitting data with very small alpha may cause precision problems.\n",
      "  ConvergenceWarning)\n",
      "/Users/admin/workspace/2018-mcm-kealyd2/envs/py3training/lib/python3.6/site-packages/sklearn/linear_model/coordinate_descent.py:491: ConvergenceWarning: Objective did not converge. You might want to increase the number of iterations. Fitting data with very small alpha may cause precision problems.\n",
      "  ConvergenceWarning)\n",
      "/Users/admin/workspace/2018-mcm-kealyd2/envs/py3training/lib/python3.6/site-packages/sklearn/linear_model/coordinate_descent.py:491: ConvergenceWarning: Objective did not converge. You might want to increase the number of iterations. Fitting data with very small alpha may cause precision problems.\n",
      "  ConvergenceWarning)\n",
      "/Users/admin/workspace/2018-mcm-kealyd2/envs/py3training/lib/python3.6/site-packages/sklearn/linear_model/coordinate_descent.py:491: ConvergenceWarning: Objective did not converge. You might want to increase the number of iterations. Fitting data with very small alpha may cause precision problems.\n",
      "  ConvergenceWarning)\n",
      "/Users/admin/workspace/2018-mcm-kealyd2/envs/py3training/lib/python3.6/site-packages/sklearn/linear_model/coordinate_descent.py:491: ConvergenceWarning: Objective did not converge. You might want to increase the number of iterations. Fitting data with very small alpha may cause precision problems.\n",
      "  ConvergenceWarning)\n",
      "/Users/admin/workspace/2018-mcm-kealyd2/envs/py3training/lib/python3.6/site-packages/sklearn/linear_model/coordinate_descent.py:491: ConvergenceWarning: Objective did not converge. You might want to increase the number of iterations. Fitting data with very small alpha may cause precision problems.\n",
      "  ConvergenceWarning)\n",
      "/Users/admin/workspace/2018-mcm-kealyd2/envs/py3training/lib/python3.6/site-packages/sklearn/linear_model/coordinate_descent.py:491: ConvergenceWarning: Objective did not converge. You might want to increase the number of iterations. Fitting data with very small alpha may cause precision problems.\n",
      "  ConvergenceWarning)\n",
      "/Users/admin/workspace/2018-mcm-kealyd2/envs/py3training/lib/python3.6/site-packages/sklearn/linear_model/coordinate_descent.py:491: ConvergenceWarning: Objective did not converge. You might want to increase the number of iterations. Fitting data with very small alpha may cause precision problems.\n",
      "  ConvergenceWarning)\n",
      "/Users/admin/workspace/2018-mcm-kealyd2/envs/py3training/lib/python3.6/site-packages/sklearn/linear_model/coordinate_descent.py:491: ConvergenceWarning: Objective did not converge. You might want to increase the number of iterations. Fitting data with very small alpha may cause precision problems.\n",
      "  ConvergenceWarning)\n",
      "/Users/admin/workspace/2018-mcm-kealyd2/envs/py3training/lib/python3.6/site-packages/sklearn/linear_model/coordinate_descent.py:491: ConvergenceWarning: Objective did not converge. You might want to increase the number of iterations. Fitting data with very small alpha may cause precision problems.\n",
      "  ConvergenceWarning)\n",
      "/Users/admin/workspace/2018-mcm-kealyd2/envs/py3training/lib/python3.6/site-packages/sklearn/linear_model/coordinate_descent.py:491: ConvergenceWarning: Objective did not converge. You might want to increase the number of iterations. Fitting data with very small alpha may cause precision problems.\n",
      "  ConvergenceWarning)\n",
      "/Users/admin/workspace/2018-mcm-kealyd2/envs/py3training/lib/python3.6/site-packages/sklearn/linear_model/coordinate_descent.py:491: ConvergenceWarning: Objective did not converge. You might want to increase the number of iterations. Fitting data with very small alpha may cause precision problems.\n",
      "  ConvergenceWarning)\n"
     ]
    },
    {
     "name": "stdout",
     "output_type": "stream",
     "text": [
      "CPU times: user 17h 59min 14s, sys: 5min 11s, total: 18h 4min 25s\n",
      "Wall time: 18h 16min 7s\n"
     ]
    }
   ],
   "source": [
    "%%time # 18 HOURS!\n",
    "# run randomized search\n",
    "n_iter_search = 12\n",
    "\n",
    "for i in range(5):\n",
    "    # 5 Algorithms \n",
    "    for target in target_names:\n",
    "        # 11 targets\n",
    "        model_grid = RandomizedSearchCV(pipelines[i], param_distributions=params[i],\n",
    "                                    n_iter=n_iter_search, cv=3, scoring='r2',\n",
    "                                    return_train_score=False)\n",
    "        model_grid.fit(X, Y[target])\n",
    "        grids[target + ' ' + i.__str__()] = model_grid"
   ]
  },
  {
   "cell_type": "code",
   "execution_count": 196,
   "metadata": {},
   "outputs": [
    {
     "data": {
      "text/plain": [
       "0.03951333329083488"
      ]
     },
     "execution_count": 196,
     "metadata": {},
     "output_type": "execute_result"
    }
   ],
   "source": [
    "maxScore = 0\n",
    "for k, v in grids.items():\n",
    "    if v.best_score_ > maxScore:\n",
    "        maxScore = v.best_score_\n",
    "\n",
    "# r^2 scoring method\n",
    "maxScore"
   ]
  },
  {
   "cell_type": "markdown",
   "metadata": {},
   "source": [
    "Best Pearson correlation of 0.19877 between predicted values and actual. This reduced performance was unexpected but can be explained by a number of factors. Earlier cross validation scores were calculated using 5-fold and this was set to 3 fold for to ease computational expense.\n",
    "\n",
    "In essence these models only had access to 2/3 of the data whereas the baseline models had access to 4/5 of the data (66% vs 80% of training set).\n",
    "\n",
    "Aditionally by varying many hyperparameters at once using RandomizedSearchGrid is highly stochastic in nature. I was hoping for better results but we can use these results combined with the literature to pick some final hyperparameters and train our final models."
   ]
  },
  {
   "cell_type": "markdown",
   "metadata": {},
   "source": [
    "## Final Training\n",
    "---\n",
    "Regularised Linear models and Random Forest methods perform best and to reduce the training time and scope of the investigation I will limit final modelling to these two methods. The reason this limitation is that regularised linear models perform best with the addition of squared feature values - making the fit quadratic. This increases our feature space to nearly 10,000 descriptive features and make slows training. \n",
    "\n",
    "On the other hand the random forest methods only seem to work well with a large number of trees due to the inherant noise in the data. Increasing the number of trees in the forest makes traiing again more expensive. \n",
    "\n",
    "These methods have performed best in my own experiments and in the literature, so this is my final effort to train models as predictive as the winners of the DREAM challenge."
   ]
  },
  {
   "cell_type": "code",
   "execution_count": 5,
   "metadata": {},
   "outputs": [],
   "source": [
    "X = df.iloc[:, 25:]\n",
    "X['Odor dilution'] = df['Odor dilution']\n",
    "\n",
    "# New targets - Most promising from literature - 8 targets\n",
    "target_names = [\"INTENSITY\",\n",
    "                \"PLEASANTNESS\",\n",
    "                \"FRUIT\",\n",
    "                \"GARLIC\",\n",
    "                \"SWEET\",\n",
    "                \"FISH\",\n",
    "                \"SPICES\", \n",
    "                \"BURNT\"\n",
    "               ]\n",
    "\n",
    "\n",
    "Y = df.loc[:, target_names]"
   ]
  },
  {
   "cell_type": "markdown",
   "metadata": {},
   "source": [
    "## Regularised Linear Model"
   ]
  },
  {
   "cell_type": "code",
   "execution_count": 98,
   "metadata": {},
   "outputs": [],
   "source": [
    "linear_models = {}\n",
    "\n",
    "for target in target_names:\n",
    "    cbrt_ss_lasso = make_pipeline(Imputer(strategy='median'), FunctionTransformer(np.cbrt),\n",
    "                                  StandardScaler(), Lasso())\n",
    "    linear_models[target] = cbrt_ss_lasso.fit(X, Y[target])\n"
   ]
  },
  {
   "cell_type": "code",
   "execution_count": null,
   "metadata": {},
   "outputs": [],
   "source": []
  },
  {
   "cell_type": "code",
   "execution_count": null,
   "metadata": {},
   "outputs": [],
   "source": []
  },
  {
   "cell_type": "code",
   "execution_count": null,
   "metadata": {},
   "outputs": [],
   "source": []
  },
  {
   "cell_type": "markdown",
   "metadata": {},
   "source": [
    "## Random Forest Model"
   ]
  },
  {
   "cell_type": "code",
   "execution_count": 129,
   "metadata": {},
   "outputs": [
    {
     "name": "stdout",
     "output_type": "stream",
     "text": [
      "CPU times: user 2h 22min 49s, sys: 20.6 s, total: 2h 23min 10s\n",
      "Wall time: 2h 24min 22s\n"
     ]
    }
   ],
   "source": [
    "%%time\n",
    "rf_models = {}\n",
    "\n",
    "# cube root transform => standard scalar\n",
    "for target in target_names:\n",
    "    cbrt_ss_rf = make_pipeline(Imputer(strategy='median'), FunctionTransformer(np.cbrt),\n",
    "                               StandardScaler(), RandomForestRegressor(n_estimators=1000, random_state=42))\n",
    "    rf_models_all[target] = cbrt_ss_rf.fit(X, Y[target])"
   ]
  },
  {
   "cell_type": "markdown",
   "metadata": {},
   "source": [
    "#### Testing different data transformations"
   ]
  },
  {
   "cell_type": "code",
   "execution_count": 118,
   "metadata": {},
   "outputs": [
    {
     "name": "stdout",
     "output_type": "stream",
     "text": [
      "CPU times: user 1min 9s, sys: 1.17 s, total: 1min 10s\n",
      "Wall time: 1min 11s\n"
     ]
    }
   ],
   "source": [
    "%%time\n",
    "rf_models = {}\n",
    "\n",
    "# standard scaler - no cuberoot transform\n",
    "for target in target_names:\n",
    "    cbrt_ss_rf = make_pipeline(Imputer(strategy='median'), StandardScaler(),\n",
    "                               RandomForestRegressor(n_estimators=1000, random_state=42))\n",
    "    rf_models_all_features[target] = cbrt_ss_rf.fit(X[top20features[target]], Y[target])"
   ]
  },
  {
   "cell_type": "code",
   "execution_count": 121,
   "metadata": {},
   "outputs": [
    {
     "name": "stdout",
     "output_type": "stream",
     "text": [
      "CPU times: user 1min 10s, sys: 640 ms, total: 1min 10s\n",
      "Wall time: 1min 11s\n"
     ]
    }
   ],
   "source": [
    "%%time\n",
    "rf_models = {}\n",
    "\n",
    "# Robust Scalar\n",
    "for target in target_names:\n",
    "    cbrt_ss_rf = make_pipeline(Imputer(strategy='median'), RobustScaler(),\n",
    "                               RandomForestRegressor(n_estimators=1000, random_state=42))\n",
    "    rf_models_20_features[target] = cbrt_ss_rf.fit(X[top20features[target]], Y[target])"
   ]
  },
  {
   "cell_type": "code",
   "execution_count": null,
   "metadata": {},
   "outputs": [],
   "source": []
  },
  {
   "cell_type": "markdown",
   "metadata": {},
   "source": [
    "## Testing on Test Set\n",
    "--- \n",
    "- Test the models using the best hyperparameters obtained through Randomized Grid Search.\n",
    "- Test on the hidden test set to guage their real world performance.\n",
    "- Take the top performing models on test set and persist them for investigation."
   ]
  },
  {
   "cell_type": "markdown",
   "metadata": {},
   "source": [
    "### Transform hidden test set to match training data"
   ]
  },
  {
   "cell_type": "code",
   "execution_count": 155,
   "metadata": {},
   "outputs": [],
   "source": [
    "test_set = pd.read_pickle(path_to_transformed_data + 'mean_test_set.zip')\n",
    "Y_test = test_set[target_names]\n",
    "\n",
    "X_test = test_set.iloc[:, 25:] \n",
    "X_labels = list(test_set.iloc[:, 25:].columns)\n",
    "X_test['Odor dilution'] = test_set['Odor dilution']\n",
    "X_labels.append('Odor diltution')"
   ]
  },
  {
   "cell_type": "code",
   "execution_count": 59,
   "metadata": {},
   "outputs": [
    {
     "data": {
      "text/plain": [
       "False    4870\n",
       "dtype: int64"
      ]
     },
     "execution_count": 59,
     "metadata": {},
     "output_type": "execute_result"
    }
   ],
   "source": [
    "impute = Imputer(strategy='median')\n",
    "X_test = pd.DataFrame(data=impute.fit_transform(X_test), columns=X_labels)\n",
    "X_test.isna().any().value_counts()"
   ]
  },
  {
   "cell_type": "code",
   "execution_count": 60,
   "metadata": {},
   "outputs": [],
   "source": [
    "X_test = X_test.apply(np.cbrt)"
   ]
  },
  {
   "cell_type": "code",
   "execution_count": 61,
   "metadata": {},
   "outputs": [],
   "source": [
    "ss = StandardScaler()\n",
    "X_test = pd.DataFrame(data=ss.fit_transform(X_test), columns=X_labels)"
   ]
  },
  {
   "cell_type": "markdown",
   "metadata": {},
   "source": [
    "## Linear Modelling Results\n",
    "\n"
   ]
  },
  {
   "cell_type": "code",
   "execution_count": 160,
   "metadata": {},
   "outputs": [],
   "source": [
    "linear_predictions = pd.DataFrame()\n",
    "\n",
    "for target in target_names:\n",
    "    linear_predictions[target + '(ACTUAL)'] = Y_test[target]\n",
    "    linear_predictions[target] = linear_models[target].predict(X_test)"
   ]
  },
  {
   "cell_type": "code",
   "execution_count": 161,
   "metadata": {},
   "outputs": [
    {
     "name": "stdout",
     "output_type": "stream",
     "text": [
      "Correlation between predicted and actual - Hidden Test Set\n",
      "\n",
      "INTENSITY:\t\t0.7111599511196067\n",
      "PLEASANTNESS:\t\t0.5893705097721007\n",
      "FRUIT:\t\t0.3436008370958339\n",
      "GARLIC:\t\t0.19432967013996613\n",
      "SWEET:\t\t0.30047444262631223\n",
      "FISH:\t\t0.21493717416304634\n",
      "SPICES:\t\t-0.08308744181403223\n",
      "BURNT:\t\t0.16394026249943813\n"
     ]
    }
   ],
   "source": [
    "print('Correlation between predicted and actual - Hidden Test Set\\n')\n",
    "for target in target_names:\n",
    "    print(target + ':\\t\\t' +linear_predictions.corr()[target].loc[target + '(ACTUAL)'].__str__())"
   ]
  },
  {
   "cell_type": "markdown",
   "metadata": {},
   "source": [
    "## Random Forest Results\n",
    "---\n",
    "Sweet & Fish are predicted well by \n",
    "\n",
    "\n",
    "These results are comparable than our baseline learner which is odd because this preprocessing was inspired by the top team who also used sklearn `RandomForrestRegressor()`. Although there are contradictions, inconsistencies and some ommissions in the winning teams write up so it is impossible to tell if we completely used the same methodology.\n",
    "\n",
    "A direct comparrison is not fair because we scored our base learners through cross validation on the training set and these learners on a hidden test set.\n",
    "\n",
    "\n",
    "\n"
   ]
  },
  {
   "cell_type": "code",
   "execution_count": 156,
   "metadata": {},
   "outputs": [],
   "source": [
    "rf_predictions = pd.DataFrame()\n",
    "\n",
    "for target in target_names:\n",
    "    rf_predictions[target + '(ACTUAL)'] = Y_test[target]\n",
    "    rf_predictions[target] = rf_models_20_features[target].predict(X_test)"
   ]
  },
  {
   "cell_type": "code",
   "execution_count": 157,
   "metadata": {},
   "outputs": [
    {
     "name": "stdout",
     "output_type": "stream",
     "text": [
      "Correlation between predicted and actual - Hidden Test Set\n",
      "20 Features:\n",
      "\n",
      "INTENSITY:\t\t0.6800345687852398\n",
      "PLEASANTNESS:\t\t0.6277735944144781\n",
      "FRUIT:\t\t0.2257141541077509\n",
      "GARLIC:\t\t0.16667352128249757\n",
      "SWEET:\t\t0.33472689929336186\n",
      "FISH:\t\t0.22460197540789578\n",
      "SPICES:\t\t0.08803537296501845\n",
      "BURNT:\t\t0.12960620729646305\n"
     ]
    }
   ],
   "source": [
    "print('Correlation between predicted and actual - Hidden Test Set\\n20 Features:\\n')\n",
    "for target in target_names:\n",
    "    print(target + ':\\t\\t' +rf_predictions.corr()[target].loc[target + '(ACTUAL)'].__str__())"
   ]
  },
  {
   "cell_type": "code",
   "execution_count": 158,
   "metadata": {},
   "outputs": [],
   "source": [
    "for target in target_names:\n",
    "    rf_predictions[target + '(ACTUAL)'] = Y_test[target]\n",
    "    rf_predictions[target] = rf_models_all_features[target].predict(X_test)"
   ]
  },
  {
   "cell_type": "code",
   "execution_count": 159,
   "metadata": {},
   "outputs": [
    {
     "name": "stdout",
     "output_type": "stream",
     "text": [
      "Correlation between predicted and actual - Hidden Test Set\n",
      "All Features:\n",
      "\n",
      "INTENSITY:\t\t0.7397777098109073\n",
      "PLEASANTNESS:\t\t0.6446791896319177\n",
      "FRUIT:\t\t0.294602514776483\n",
      "GARLIC:\t\t0.24522356569282383\n",
      "SWEET:\t\t0.3426858644523011\n",
      "FISH:\t\t0.2801446533955109\n",
      "SPICES:\t\t0.004239158120352043\n",
      "BURNT:\t\t0.1618787869153477\n"
     ]
    }
   ],
   "source": [
    "print('Correlation between predicted and actual - Hidden Test Set\\nAll Features:\\n')\n",
    "for target in target_names:\n",
    "    print(target + ':\\t\\t' +rf_predictions.corr()[target].loc[target + '(ACTUAL)'].__str__())"
   ]
  },
  {
   "cell_type": "markdown",
   "metadata": {},
   "source": [
    "# Persist Fitted Models for interpretation"
   ]
  },
  {
   "cell_type": "code",
   "execution_count": 162,
   "metadata": {},
   "outputs": [
    {
     "data": {
      "text/plain": [
       "['../models/rf_INTENSITY_all.pkl']"
      ]
     },
     "execution_count": 162,
     "metadata": {},
     "output_type": "execute_result"
    },
    {
     "data": {
      "text/plain": [
       "['../models/rf_PLEASANTNESS_all.pkl']"
      ]
     },
     "execution_count": 162,
     "metadata": {},
     "output_type": "execute_result"
    },
    {
     "data": {
      "text/plain": [
       "['../models/rf_FRUIT_all.pkl']"
      ]
     },
     "execution_count": 162,
     "metadata": {},
     "output_type": "execute_result"
    },
    {
     "data": {
      "text/plain": [
       "['../models/rf_GARLIC_all.pkl']"
      ]
     },
     "execution_count": 162,
     "metadata": {},
     "output_type": "execute_result"
    },
    {
     "data": {
      "text/plain": [
       "['../models/rf_SWEET_all.pkl']"
      ]
     },
     "execution_count": 162,
     "metadata": {},
     "output_type": "execute_result"
    },
    {
     "data": {
      "text/plain": [
       "['../models/rf_FISH_all.pkl']"
      ]
     },
     "execution_count": 162,
     "metadata": {},
     "output_type": "execute_result"
    },
    {
     "data": {
      "text/plain": [
       "['../models/rf_SPICES_all.pkl']"
      ]
     },
     "execution_count": 162,
     "metadata": {},
     "output_type": "execute_result"
    },
    {
     "data": {
      "text/plain": [
       "['../models/rf_BURNT_all.pkl']"
      ]
     },
     "execution_count": 162,
     "metadata": {},
     "output_type": "execute_result"
    }
   ],
   "source": [
    "from sklearn.externals import joblib\n",
    "\n",
    "\n",
    "for target in target_names:\n",
    "    file = 'rf_' + target + '_all.pkl'\n",
    "    joblib.dump(rf_models_all_features[target], path_to_models + file) "
   ]
  },
  {
   "cell_type": "code",
   "execution_count": 153,
   "metadata": {},
   "outputs": [
    {
     "data": {
      "text/plain": [
       "['../models/rf_INTENSITY_20.pkl']"
      ]
     },
     "execution_count": 153,
     "metadata": {},
     "output_type": "execute_result"
    },
    {
     "data": {
      "text/plain": [
       "['../models/rf_PLEASANTNESS_20.pkl']"
      ]
     },
     "execution_count": 153,
     "metadata": {},
     "output_type": "execute_result"
    },
    {
     "data": {
      "text/plain": [
       "['../models/rf_FRUIT_20.pkl']"
      ]
     },
     "execution_count": 153,
     "metadata": {},
     "output_type": "execute_result"
    },
    {
     "data": {
      "text/plain": [
       "['../models/rf_GARLIC_20.pkl']"
      ]
     },
     "execution_count": 153,
     "metadata": {},
     "output_type": "execute_result"
    },
    {
     "data": {
      "text/plain": [
       "['../models/rf_SWEET_20.pkl']"
      ]
     },
     "execution_count": 153,
     "metadata": {},
     "output_type": "execute_result"
    },
    {
     "data": {
      "text/plain": [
       "['../models/rf_FISH_20.pkl']"
      ]
     },
     "execution_count": 153,
     "metadata": {},
     "output_type": "execute_result"
    },
    {
     "data": {
      "text/plain": [
       "['../models/rf_SPICES_20.pkl']"
      ]
     },
     "execution_count": 153,
     "metadata": {},
     "output_type": "execute_result"
    },
    {
     "data": {
      "text/plain": [
       "['../models/rf_BURNT_20.pkl']"
      ]
     },
     "execution_count": 153,
     "metadata": {},
     "output_type": "execute_result"
    }
   ],
   "source": [
    "for target in target_names:\n",
    "    file = 'rf_' + target + '_20.pkl'\n",
    "    joblib.dump(rf_models_20_features[target], path_to_models + file) "
   ]
  },
  {
   "cell_type": "code",
   "execution_count": 154,
   "metadata": {},
   "outputs": [
    {
     "data": {
      "text/plain": [
       "['../models/lasso_INTENSITY_all.pkl']"
      ]
     },
     "execution_count": 154,
     "metadata": {},
     "output_type": "execute_result"
    },
    {
     "data": {
      "text/plain": [
       "['../models/lasso_PLEASANTNESS_all.pkl']"
      ]
     },
     "execution_count": 154,
     "metadata": {},
     "output_type": "execute_result"
    },
    {
     "data": {
      "text/plain": [
       "['../models/lasso_FRUIT_all.pkl']"
      ]
     },
     "execution_count": 154,
     "metadata": {},
     "output_type": "execute_result"
    },
    {
     "data": {
      "text/plain": [
       "['../models/lasso_GARLIC_all.pkl']"
      ]
     },
     "execution_count": 154,
     "metadata": {},
     "output_type": "execute_result"
    },
    {
     "data": {
      "text/plain": [
       "['../models/lasso_SWEET_all.pkl']"
      ]
     },
     "execution_count": 154,
     "metadata": {},
     "output_type": "execute_result"
    },
    {
     "data": {
      "text/plain": [
       "['../models/lasso_FISH_all.pkl']"
      ]
     },
     "execution_count": 154,
     "metadata": {},
     "output_type": "execute_result"
    },
    {
     "data": {
      "text/plain": [
       "['../models/lasso_SPICES_all.pkl']"
      ]
     },
     "execution_count": 154,
     "metadata": {},
     "output_type": "execute_result"
    },
    {
     "data": {
      "text/plain": [
       "['../models/lasso_BURNT_all.pkl']"
      ]
     },
     "execution_count": 154,
     "metadata": {},
     "output_type": "execute_result"
    }
   ],
   "source": [
    "for target in target_names:\n",
    "    file = 'lasso_' + target + '_all.pkl'\n",
    "    joblib.dump(linear_models[target], path_to_models + file) "
   ]
  },
  {
   "cell_type": "code",
   "execution_count": null,
   "metadata": {},
   "outputs": [],
   "source": []
  }
 ],
 "metadata": {
  "kernelspec": {
   "display_name": "Python 3",
   "language": "python",
   "name": "python3"
  },
  "language_info": {
   "codemirror_mode": {
    "name": "ipython",
    "version": 3
   },
   "file_extension": ".py",
   "mimetype": "text/x-python",
   "name": "python",
   "nbconvert_exporter": "python",
   "pygments_lexer": "ipython3",
   "version": "3.6.5"
  }
 },
 "nbformat": 4,
 "nbformat_minor": 2
}
