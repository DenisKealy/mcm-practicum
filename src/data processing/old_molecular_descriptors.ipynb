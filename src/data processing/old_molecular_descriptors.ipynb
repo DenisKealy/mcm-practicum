{
 "cells": [
  {
   "cell_type": "markdown",
   "metadata": {},
   "source": [
    "# Molecular Descriptors\n",
    "---\n",
    "\n",
    "From DREAM paper:\n",
    "\n",
    "    Of the 18 teams who submitted models to predict individual perception, Team GuanLab (author Y.G.) was the best performer with a Z-score of 34.18 (Fig. 1H and table S1). Team IKW Allstars (author R.C.G.) was the best performer of 19 teams to submit models to predict population perception, with a Z-score of 8.87 (Fig. 1H and table S1). The aggregation of all participant models gave Z-scores of 34.02 (individual) and 9.17 (population) (Fig. 1H), and a postchallenge community phase where initial models and additional molecular features were shared across teams gave even better models with Z-scores of 36.45 (individual) and 9.92 (population) (Fig. 1H).\n",
    "    \n",
    "Team GuanLab (Winner of Individual Prediction) pre-processed these descriptors in the following manner:\n",
    "\n",
    "- Eliminate molecular descriptors with 'non responses', negative values, and identical values for all compounds. This reduces the number of descriptors from about 5,000 to about 900\n",
    "- Normalize molecular values by the variance of the attribute and take the square root\n",
    "- In the paper [cite] published later (2018) the team reported using min-max normalisation (x′=x−min(x)/max(x)−min(x)). \n",
    "\n",
    "Team IKW Allstars (Winner of the Population prediction) pre-processed these descriptors in the following manner:\n",
    " \n",
    "- Load molecular descriptor file into a bunch of matrices. Each entry in a matrix is one observation, or the mean of observations in the case of replicates.\n",
    "- Discard any columns (descriptors) that contained too many NaN entries.\n",
    "- For remaining columns, perform median imputation to convert NaNs to real values.\n",
    "- Cube root transform data, then normalize each column to mean 0, variance 1.\n"
   ]
  },
  {
   "cell_type": "markdown",
   "metadata": {},
   "source": [
    "## Imports"
   ]
  },
  {
   "cell_type": "code",
   "execution_count": 3,
   "metadata": {},
   "outputs": [],
   "source": [
    "# Math Libraries\n",
    "import scipy\n",
    "import numpy as np\n",
    "import pandas as pd\n",
    "\n",
    "# Visalisation\n",
    "import matplotlib\n",
    "import matplotlib.pyplot as plt\n",
    "%matplotlib inline\n",
    "import seaborn as sb\n",
    "# sb.set_style('whitegrid')\n",
    "\n",
    "# I/O\n",
    "import json\n",
    "import xlrd\n",
    "\n",
    "# Utility\n",
    "from IPython.core.interactiveshell import InteractiveShell\n",
    "InteractiveShell.ast_node_interactivity = \"all\""
   ]
  },
  {
   "cell_type": "markdown",
   "metadata": {},
   "source": [
    "## Paths"
   ]
  },
  {
   "cell_type": "code",
   "execution_count": 50,
   "metadata": {},
   "outputs": [],
   "source": [
    "path_to_transformed_data = \"../../data/transformed/\"\n",
    "path_to_data = \"../../data/\"\n",
    "molecular_file = '../../data/molecular_descriptors_data.txt'\n",
    "# top20features_file = '/Users/admin/workspace/CA684Assignment/data/top20features.xlsx'"
   ]
  },
  {
   "cell_type": "markdown",
   "metadata": {},
   "source": [
    "## Load data"
   ]
  },
  {
   "cell_type": "code",
   "execution_count": 52,
   "metadata": {},
   "outputs": [],
   "source": [
    "# Load the molecular descriptors \n",
    "molecular_descriptors = pd.read_csv(molecular_file, sep='\\t', header = 0)"
   ]
  },
  {
   "cell_type": "code",
   "execution_count": 8,
   "metadata": {},
   "outputs": [],
   "source": [
    "# Read in file containing respective top 20 features for each target perception\n",
    "#top20features = pd.read_excel(top20features_file)"
   ]
  },
  {
   "cell_type": "markdown",
   "metadata": {},
   "source": [
    "## Missing Data"
   ]
  },
  {
   "cell_type": "code",
   "execution_count": 54,
   "metadata": {},
   "outputs": [
    {
     "name": "stdout",
     "output_type": "stream",
     "text": [
      "Raw Molecular Descriptor Columns NaN count: \n"
     ]
    },
    {
     "data": {
      "text/plain": [
       "count      4870\n",
       "unique        2\n",
       "top       False\n",
       "freq       2763\n",
       "dtype: object"
      ]
     },
     "execution_count": 54,
     "metadata": {},
     "output_type": "execute_result"
    },
    {
     "name": "stdout",
     "output_type": "stream",
     "text": [
      "Raw Shape: (476, 4870)\n"
     ]
    }
   ],
   "source": [
    "# This output shows us that we have 4870 columns of which 2763 do not contain NaN\n",
    "# Leaving 2107 columns with NaN values\n",
    "print(\"Raw Molecular Descriptor Columns NaN count: \")\n",
    "molecular_descriptors.isna().any().describe()\n",
    "print(\"Raw Shape: \" + molecular_descriptors.shape.__str__())"
   ]
  },
  {
   "cell_type": "code",
   "execution_count": 55,
   "metadata": {},
   "outputs": [
    {
     "name": "stdout",
     "output_type": "stream",
     "text": [
      "\n",
      "Molecular Descriptor w/ NaN Columns dropped: \n"
     ]
    },
    {
     "data": {
      "text/plain": [
       "count      2762\n",
       "unique        1\n",
       "top       False\n",
       "freq       2762\n",
       "dtype: object"
      ]
     },
     "execution_count": 55,
     "metadata": {},
     "output_type": "execute_result"
    },
    {
     "name": "stdout",
     "output_type": "stream",
     "text": [
      "Dropped NaN Shape: (476, 2762)\n"
     ]
    }
   ],
   "source": [
    "# Store and drop the unique molecule ID to preserve IDs through normalisation\n",
    "cids = molecular_descriptors['CID']\n",
    "molecular_descriptors = molecular_descriptors.drop('CID', axis=1) \n",
    "\n",
    "# Drop columns containing NaN values as per both winning teams\n",
    "dropna_molecular_descriptors = molecular_descriptors.dropna(axis=1)\n",
    "\n",
    "print(\"\\nMolecular Descriptor w/ NaN Columns dropped: \")\n",
    "dropna_molecular_descriptors.isna().any().describe()\n",
    "print(\"Dropped NaN Shape: \" + dropna_molecular_descriptors.shape.__str__())"
   ]
  },
  {
   "cell_type": "code",
   "execution_count": 39,
   "metadata": {},
   "outputs": [],
   "source": []
  },
  {
   "cell_type": "code",
   "execution_count": 56,
   "metadata": {},
   "outputs": [],
   "source": [
    "# Apply min max normalisation to place all values between 1 and 0.\n",
    "min_max_dropna = dropna_molecular_descriptors.apply(lambda x: (x-x.min())/(x.max()-x.min()), axis=0)"
   ]
  },
  {
   "cell_type": "code",
   "execution_count": 57,
   "metadata": {},
   "outputs": [
    {
     "name": "stdout",
     "output_type": "stream",
     "text": [
      "Before:\n"
     ]
    },
    {
     "data": {
      "text/plain": [
       "count     2762\n",
       "unique       2\n",
       "top       True\n",
       "freq      1754\n",
       "dtype: object"
      ]
     },
     "execution_count": 57,
     "metadata": {},
     "output_type": "execute_result"
    },
    {
     "name": "stdout",
     "output_type": "stream",
     "text": [
      "After:\n"
     ]
    },
    {
     "data": {
      "text/plain": [
       "count      1008\n",
       "unique        1\n",
       "top       False\n",
       "freq       1008\n",
       "dtype: object"
      ]
     },
     "execution_count": 57,
     "metadata": {},
     "output_type": "execute_result"
    }
   ],
   "source": [
    "# We have created NaN values through this calculation. Now we have 1754 columns containing NaNs\n",
    "print(\"Before:\")\n",
    "min_max_dropna.isna().any().describe()\n",
    "\n",
    "# Drop columsn in which we introduced NaN values\n",
    "min_max_dropna =  min_max_dropna.dropna(axis=1)\n",
    "\n",
    "# Leavus us with 1008 columns\n",
    "print(\"After:\")\n",
    "min_max_dropna.isna().any().describe()"
   ]
  },
  {
   "cell_type": "code",
   "execution_count": 58,
   "metadata": {},
   "outputs": [],
   "source": [
    "# Add back in CID after normalisation and removal of missing data\n",
    "min_max_dropna.insert(0, 'CID', cids)"
   ]
  },
  {
   "cell_type": "code",
   "execution_count": 59,
   "metadata": {},
   "outputs": [],
   "source": [
    "min_max_dropna.to_pickle(path_to_transformed_data + \"MOL_min_max_dropna.zip\")"
   ]
  },
  {
   "cell_type": "code",
   "execution_count": null,
   "metadata": {},
   "outputs": [],
   "source": []
  }
 ],
 "metadata": {
  "kernelspec": {
   "display_name": "Python 3",
   "language": "python",
   "name": "python3"
  },
  "language_info": {
   "codemirror_mode": {
    "name": "ipython",
    "version": 3
   },
   "file_extension": ".py",
   "mimetype": "text/x-python",
   "name": "python",
   "nbconvert_exporter": "python",
   "pygments_lexer": "ipython3",
   "version": "3.6.5"
  }
 },
 "nbformat": 4,
 "nbformat_minor": 2
}
